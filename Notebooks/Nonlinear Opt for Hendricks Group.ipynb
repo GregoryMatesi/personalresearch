{
 "cells": [
  {
   "cell_type": "code",
   "execution_count": 2,
   "metadata": {},
   "outputs": [],
   "source": [
    "import numpy as np\n",
    "import scipy as scipy\n",
    "import matplotlib.pyplot as plt\n",
    "from scipy.optimize import minimize"
   ]
  },
  {
   "cell_type": "markdown",
   "metadata": {},
   "source": [
    "# Gain Intuitions by Solving 2-dimensional problem\n",
    "\n",
    "To begin to understand exact and numerical approaches to the optimization problem of interest to the Hendricks group for the Hidden Ancestries project, in this notebook we attempt to solve the following 2-dimensional quadratic optimization problem:\n",
    "\n",
    "$$\\min_{(x,y)\\in \\mathbb{R}^2} f(x,y)=(ax+by-c)^2$$\n",
    "\n",
    "$$\\text{subject to:} \\quad x+y=1 \\quad x\\geq 0 \\quad y \\geq 0,$$\n",
    "\n",
    "where $a,b,c \\in \\mathbb{R}$ are quantities obtained from a genetics simulation."
   ]
  },
  {
   "cell_type": "code",
   "execution_count": 35,
   "metadata": {},
   "outputs": [],
   "source": [
    "#a=0.3\n",
    "#b=0.05\n",
    "#c=0.2\n",
    "\n",
    "# Sample size\n",
    "\n",
    "M=10000\n",
    "\n",
    "a = np.random.uniform(low=0, high=0.5, size=(M,1))\n",
    "b = np.random.uniform(low=0.2, high=0.5, size=(M,1))\n",
    "c = np.random.uniform(low=0, high=0.5, size=(M,1))"
   ]
  },
  {
   "cell_type": "code",
   "execution_count": 38,
   "metadata": {},
   "outputs": [],
   "source": [
    "def function(x):\n",
    "    return np.sum((a*x[0]+b*x[1]-c)**2,axis=0)"
   ]
  },
  {
   "cell_type": "code",
   "execution_count": 39,
   "metadata": {},
   "outputs": [
    {
     "name": "stdout",
     "output_type": "stream",
     "text": [
      "[301.57899862]\n"
     ]
    }
   ],
   "source": [
    "x_t=np.array((0.5,0.5))\n",
    "\n",
    "print(function(x_t))"
   ]
  },
  {
   "cell_type": "code",
   "execution_count": 40,
   "metadata": {},
   "outputs": [],
   "source": [
    "#def gradfun(x):\n",
    "    #return np.array((2*a*(a*x[0]+b*x[1]-c),2*b*(a*x[0]+b*x[1]-c)))"
   ]
  },
  {
   "cell_type": "markdown",
   "metadata": {},
   "source": [
    "## Analytic Solution (2d)\n",
    "\n",
    "In two dimensions, we have a (potential) analytic solution given by\n",
    "\n",
    "$$x^*=\\left(\\frac{c-b}{a-b},\\frac{a-c}{a-b}\\right)$$"
   ]
  },
  {
   "cell_type": "code",
   "execution_count": 5,
   "metadata": {},
   "outputs": [
    {
     "name": "stdout",
     "output_type": "stream",
     "text": [
      "0.6000000000000001 0.3999999999999999\n"
     ]
    },
    {
     "data": {
      "text/plain": [
       "0.0"
      ]
     },
     "execution_count": 5,
     "metadata": {},
     "output_type": "execute_result"
    }
   ],
   "source": [
    "print((c-b)/(a-b),(a-c)/(a-b))\n",
    "function(((c-b)/(a-b),(a-c)/(a-b)))"
   ]
  },
  {
   "cell_type": "code",
   "execution_count": 6,
   "metadata": {},
   "outputs": [
    {
     "name": "stdout",
     "output_type": "stream",
     "text": [
      "[0. 0.]\n"
     ]
    }
   ],
   "source": [
    "print(gradfun(((c-b)/(a-b),(a-c)/(a-b))))"
   ]
  },
  {
   "cell_type": "markdown",
   "metadata": {},
   "source": [
    "## Grid Searching"
   ]
  },
  {
   "cell_type": "code",
   "execution_count": 45,
   "metadata": {},
   "outputs": [],
   "source": [
    "x=np.arange(0,1,0.01)\n",
    "y=1-x"
   ]
  },
  {
   "cell_type": "code",
   "execution_count": 47,
   "metadata": {},
   "outputs": [
    {
     "name": "stdout",
     "output_type": "stream",
     "text": [
      "0.44 0.56\n"
     ]
    }
   ],
   "source": [
    "f=0\n",
    "f_hist=np.array(f)\n",
    "\n",
    "for i in range(1,100):\n",
    "    f= function((x[i],y[i]))\n",
    "    f_hist=np.vstack((f_hist,f))\n",
    "\n",
    "f_hist=f_hist[1:]\n",
    "#print(f_hist)\n",
    "ind=np.argmin(f_hist)\n",
    "print(x[ind],y[ind])"
   ]
  },
  {
   "cell_type": "markdown",
   "metadata": {},
   "source": [
    "## SLSQP"
   ]
  },
  {
   "cell_type": "code",
   "execution_count": 48,
   "metadata": {},
   "outputs": [],
   "source": [
    "x0=np.array((0.5,0.5))\n",
    "\n",
    "\n",
    "cons = ({'type': 'eq', 'fun': lambda x:  x[0] + x[1] -1},\n",
    "        {'type': 'ineq', 'fun': lambda x: x[0]},\n",
    "        {'type': 'ineq', 'fun': lambda x: x[1]})\n",
    "\n",
    "bnds = ((0, None), (0, None))"
   ]
  },
  {
   "cell_type": "code",
   "execution_count": 49,
   "metadata": {},
   "outputs": [
    {
     "data": {
      "text/plain": [
       "     fun: 300.6686168506673\n",
       "     jac: array([464.69695663, 464.69695663])\n",
       " message: 'Optimization terminated successfully.'\n",
       "    nfev: 13\n",
       "     nit: 3\n",
       "    njev: 3\n",
       "  status: 0\n",
       " success: True\n",
       "       x: array([0.45097834, 0.54902166])"
      ]
     },
     "execution_count": 49,
     "metadata": {},
     "output_type": "execute_result"
    }
   ],
   "source": [
    "minimize(function, x0, method='SLSQP', bounds=bnds, constraints=cons)\n",
    "\n",
    "# Run time?"
   ]
  },
  {
   "cell_type": "markdown",
   "metadata": {},
   "source": [
    "## Visualizations"
   ]
  },
  {
   "cell_type": "code",
   "execution_count": 50,
   "metadata": {},
   "outputs": [
    {
     "data": {
      "text/plain": [
       "[<matplotlib.lines.Line2D at 0x1f24d9e6c50>]"
      ]
     },
     "execution_count": 50,
     "metadata": {},
     "output_type": "execute_result"
    },
    {
     "data": {
      "image/png": "[encoded data removed]",
      "text/plain": [
       "<Figure size 432x288 with 1 Axes>"
      ]
     },
     "metadata": {},
     "output_type": "display_data"
    }
   ],
   "source": [
    "plt.plot(x[1:],f_hist)\n",
    "plt.plot(y[1:],f_hist)"
   ]
  },
  {
   "cell_type": "code",
   "execution_count": null,
   "metadata": {},
   "outputs": [],
   "source": []
  }
 ],
 "metadata": {
  "kernelspec": {
   "display_name": "Python 3",
   "language": "python",
   "name": "python3"
  },
  "language_info": {
   "codemirror_mode": {
    "name": "ipython",
    "version": 3
   },
   "file_extension": ".py",
   "mimetype": "text/x-python",
   "name": "python",
   "nbconvert_exporter": "python",
   "pygments_lexer": "ipython3",
   "version": "3.6.5"
  }
 },
 "nbformat": 4,
 "nbformat_minor": 2
}
