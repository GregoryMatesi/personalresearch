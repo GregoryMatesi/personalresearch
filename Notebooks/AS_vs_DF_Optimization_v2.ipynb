{
 "cells": [
  {
   "cell_type": "markdown",
   "metadata": {},
   "source": [
    "# Comparing Optimization Results using Active Subspaces and Derivative-Free Optimization on a Function with Additive Noise"
   ]
  },
  {
   "cell_type": "code",
   "execution_count": 1,
   "metadata": {
    "collapsed": true
   },
   "outputs": [],
   "source": [
    "# Import needed packages\n",
    "\n",
    "import active_subspaces as ac\n",
    "import numpy as np\n",
    "import matplotlib.pyplot as plt"
   ]
  },
  {
   "cell_type": "markdown",
   "metadata": {},
   "source": [
    "# Introduction"
   ]
  },
  {
   "cell_type": "markdown",
   "metadata": {},
   "source": [
    "The function we use for demonstration is:\n",
    "\n",
    "$$f: \\mathbb{R}^{16} \\to \\mathbb{R}$$\n",
    "\n",
    "$$f: \\vec{x} \\to f(\\vec{x})$$\n",
    "\n",
    "$$\n",
    "f(\\vec{x})=f((x_1,x_2,x_3,x_4,x_5,x_6,x_7,\\ldots,x_{16})) = \\alpha (x_1+x_2)^2+\\beta (x_3+x_4)^2+\\gamma (x_5+x_6)^2\n",
    "$$\n",
    "\n",
    "Notice we have defined $f$ to have no depedence on \\{$x_7,\\ldots,x_{16}$\\}; to model those parameters as useless predictors, we will add a random noise factor $\\epsilon$ to all function outputs, so that $$\\texttt{pert_f}:=\\tilde{f}(\\vec{x})=f(\\vec{x})+\\epsilon.$$ The random noise factor $\\epsilon$ is scaled to the unperturbed function output; in particular, we'll let $\\epsilon \\propto \\left|\\left|f(\\vec{x})\\right|\\right|$.\n",
    "\n",
    "We will explore what happens when $\\alpha>\\beta>\\gamma$, with a relatively small additive random noise factor. This is a regime under which active subspace analysis is well-suited. Indeed, since the term $\\alpha(x_1+x_2)$ contributes most to function outputs, the active subspace emerges as a linear combination $\\eta^T\\begin{bmatrix}\n",
    "x_1\\\\\n",
    "x_2\\\\\n",
    "\\end{bmatrix},$ where $\\eta \\in \\mathbb{R}^2$. The components of $\\eta$ are given by components in the eigenvectors computed either through Principal Component Analysis in gradient space (Russi) or through Active Subspace analysis (Constantine). In fact, $\\eta$ is a normalized eigenvector. Since $x_1$ and $x_2$ are equally important with respect to function value contributions and $x_3,x_4,\\ldots,x_{16}$ are unimportant with respect to function values, we expect the components of $\\eta$ to converge to the vector $\\left(\\frac{1}{\\sqrt{2}},\\frac{1}{\\sqrt{2}},0,\\ldots,0\\right)^T$ as iterations $k$ tend to infinity. To compare this analysis to the DF framework, we will not use an analytical gradient; instead, we can recycle the function evaluations from the DF algorithm to form our sample matrix in AS analysis, and to form a locally linear approximation to $\\nabla f$.\n",
    "\n",
    "We assume each variable has an a priori distribution of U[-1,1] to avoid normalization. We note this is a standard interval that we normalize to anyway (see Russi, Constantine). For the purpose of understand Active Subspace analysis, we first perform $M=1000$ random draws on the hypercube $\\Lambda:=[-1,1]^{16}$ and form the $M \\times 16$ \"input matrix\" $A$ by transposing each sample into a $1\\times 16$ row vector and stacking them into a matrix; this allows us to compute the active subspace so that we can check the accuracy of active subspace approximations when we use significantly less function evaluations later in the notebook. The matrix $A$ is denoted with a lower $\\texttt{a}$ in the notebook."
   ]
  },
  {
   "cell_type": "code",
   "execution_count": 2,
   "metadata": {
    "collapsed": true
   },
   "outputs": [],
   "source": [
    "# Number of samples for active subspace computation\n",
    "M = 1000\n",
    "\n",
    "# The input matrix\n",
    "a = np.random.uniform(low=-1, high=1, size=(M,16))\n",
    "\n",
    "# Parameters alpha, beta, gamma from our function\n",
    "A = 1000 # alpha\n",
    "B = 10 # beta\n",
    "C = 1 # gamma\n",
    "\n",
    "# An M x 1 column vector containing the evaluations of f at data points 1,...,M\n",
    "def fun(a):\n",
    "    \n",
    "    a = a.copy()\n",
    "    a = np.atleast_2d(a)\n",
    "    M = a.shape[0]\n",
    "    \n",
    "    x = a[:,0]; y = a[:,1]; z = a[:,2]; w = a[:,3]; p = a[:,4]; q = a[:,5]; \n",
    "    \n",
    "    return (A*(x+y)**2+B*(z+w)**2+C*(p+q)**2+9).reshape(M, 1)\n",
    "\n",
    "def gun(a):\n",
    "    \n",
    "    a = a.copy()\n",
    "    a = np.atleast_2d(a)\n",
    "    M = a.shape[0]\n",
    "    \n",
    "    x = a[:,0]; y = a[:,1]; z = a[:,2]; w = a[:,3]; p = a[:,4]; q = a[:,5]; \n",
    "    \n",
    "    return (A*np.sin(x+y)**2+(A/2)*np.sin(z+w)**2+C*p**2).reshape(M, 1)\n",
    "\n",
    "def hun(a):\n",
    "    \n",
    "    a = a.copy()\n",
    "    a = np.atleast_2d(a)\n",
    "    M = a.shape[0]\n",
    "    \n",
    "    x = a[:,0]; y = a[:,1]; z = a[:,2]; w = a[:,3]; p = a[:,4]; q = a[:,5]; \n",
    "    \n",
    "    return (A*(x**2+y)+2*B*(z+w)**100+C*(p+q+x**3)**2).reshape(M, 1)\n",
    "\n",
    "f=fun(a)\n",
    "g=gun(a)\n",
    "\n",
    "# Global noise proportionality constant\n",
    "k = 1e-6\n",
    "\n",
    "# Perturbed function output\n",
    "pert_f=g+np.linalg.norm(g)*k*(2*(np.random.rand(M,1))-np.ones((M,1)))"
   ]
  },
  {
   "cell_type": "markdown",
   "metadata": {},
   "source": [
    "# Computation of the Active Subspace"
   ]
  },
  {
   "cell_type": "markdown",
   "metadata": {},
   "source": [
    "For AS analysis, we mimic Paul Constantine's \"basic\" tutorial in his active subspaces library on GitHub, using a different toy function. All text directly copied from Paul's original notebook are cited with quotations throughout this notebook. Let $A_k$ denote the $k$-th row of $A$, which is the $k$-th of our $M$ samples of vectors in $[-1,1]^{16}$. \n",
    "\n",
    "We form a local linear approximation to the $\\nabla \\tilde{f}$, which we denote $\\tilde{\\nabla f}$. We evaluate the approximation at all $M$ samples, giving us $M$ $16 \\times 1$ column vectors, $\\tilde{\\nabla f}(A_k^T)$, $k=1,\\ldots,M$. Finally, we form the $M \\times 16$ matrix\n",
    "\n",
    "$$\\texttt{noisy_grad_fun(a)}:=\\texttt{grad_fun(a)}+E=\\begin{bmatrix}\n",
    "\\tilde{\\nabla f}(A_1^T)^T\\\\\n",
    "\\cdot \\cdot \\cdot\\\\\n",
    "\\tilde{\\nabla f}(A_k^T)^T\\\\\n",
    "\\cdot \\cdot \\cdot \\\\\n",
    "\\tilde{\\nabla f}(A_M^T)^T\\\\\n",
    "\\end{bmatrix}.$$\n",
    "\n",
    "In order to \"see\" the important linear combinations in $\\Lambda$, we print out the first of the eigenvectors formed in the AS analysis."
   ]
  },
  {
   "cell_type": "code",
   "execution_count": 3,
   "metadata": {
    "collapsed": false
   },
   "outputs": [
    {
     "name": "stderr",
     "output_type": "stream",
     "text": [
      "/home/students/halljord/anaconda2/lib/python2.7/site-packages/matplotlib/font_manager.py:1297: UserWarning: findfont: Font family [u'arial'] not found. Falling back to DejaVu Sans\n",
      "  (prop.get_family(), self.defaultFamily[fontext]))\n"
     ]
    },
    {
     "data": {
      "image/png": "[encoded data removed]",
      "text/plain": [
       "<matplotlib.figure.Figure at 0x7f7950578750>"
      ]
     },
     "metadata": {},
     "output_type": "display_data"
    },
    {
     "data": {
      "image/png": "[encoded data removed]",
      "text/plain": [
       "<matplotlib.figure.Figure at 0x7f793ff87890>"
      ]
     },
     "metadata": {},
     "output_type": "display_data"
    },
    {
     "data": {
      "image/png": "[encoded data removed]",
      "text/plain": [
       "<matplotlib.figure.Figure at 0x7f794c1c5810>"
      ]
     },
     "metadata": {},
     "output_type": "display_data"
    },
    {
     "name": "stdout",
     "output_type": "stream",
     "text": [
      "[ 0.70689471  0.69948462 -0.04444277 -0.02437775 -0.02507486 -0.00776524\n",
      "  0.03968421 -0.02276928 -0.00122815  0.04416378  0.02165678  0.00961148\n",
      "  0.04056018  0.01688912 -0.00377449  0.03480538]\n",
      "(16,)\n",
      "[ 0.70689471  0.69948462 -0.04444277 -0.02437775 -0.02507486 -0.00776524\n",
      "  0.03968421 -0.02276928 -0.00122815  0.04416378  0.02165678  0.00961148\n",
      "  0.04056018  0.01688912 -0.00377449  0.03480538]\n"
     ]
    }
   ],
   "source": [
    "# USING LOCAL LINEAR APPROXIMATIONS TO GRAD(F)\n",
    "\n",
    "#Instantiate a subspace object\n",
    "ss = ac.subspaces.Subspaces()\n",
    "\n",
    "df = ac.gradients.local_linear_gradients(a, pert_f) #Estimated gradients using local linear models\n",
    "\n",
    "ss.compute(df=df, nboot=100)\n",
    "ac.utils.plotters.eigenvalues(ss.eigenvals, ss.e_br)\n",
    "ac.utils.plotters.subspace_errors(ss.sub_br)\n",
    "ac.utils.plotters.sufficient_summary(a.dot(ss.W1), pert_f)\n",
    "\n",
    "print(ss.W1[:,0])\n",
    "print(np.shape(ss.W1[:,0]))\n",
    "print(ss.eigenvecs[:,0])"
   ]
  },
  {
   "cell_type": "markdown",
   "metadata": {},
   "source": [
    "# Fitting a Polynomial Surrogate"
   ]
  },
  {
   "cell_type": "code",
   "execution_count": 4,
   "metadata": {
    "collapsed": false,
    "scrolled": true
   },
   "outputs": [
    {
     "name": "stdout",
     "output_type": "stream",
     "text": [
      "The R^2 value of the response surface is 0.7775\n"
     ]
    },
    {
     "data": {
      "image/png": "[encoded data removed]",
      "text/plain": [
       "<matplotlib.figure.Figure at 0x7f793fe81d10>"
      ]
     },
     "metadata": {},
     "output_type": "display_data"
    }
   ],
   "source": [
    "#quadratic polynomial approximation\n",
    "RS = ac.utils.response_surfaces.PolynomialApproximation(4)\n",
    "\n",
    "#Train the surface with active variable values (y = a.dot(ss.W1)) and perturbed function values (f)\n",
    "y = a.dot(ss.W1)\n",
    "RS.train(y, pert_f)\n",
    "print 'The R^2 value of the response surface is {:.4f}'.format(RS.Rsqr)\n",
    "\n",
    "#Plot the data and response surface prediction\n",
    "plt.figure(figsize=(7, 7))\n",
    "y0 = np.linspace(-2, 2, 200)\n",
    "plt.plot(y, pert_f, 'bo', y0, RS.predict(y0[:,None])[0], 'k-', linewidth=2, markersize=8)\n",
    "plt.grid(True)\n",
    "plt.xlabel('Active Variable Value', fontsize=18)\n",
    "plt.ylabel('Output', fontsize=18)\n",
    "plt.show()"
   ]
  },
  {
   "cell_type": "markdown",
   "metadata": {},
   "source": [
    "# Minimize the Surrogate"
   ]
  },
  {
   "cell_type": "code",
   "execution_count": 5,
   "metadata": {
    "collapsed": false
   },
   "outputs": [
    {
     "name": "stdout",
     "output_type": "stream",
     "text": [
      "The response surface optimization results are\n",
      ": ystar = 0.0110, fstar = 221.2601\n",
      "\n"
     ]
    }
   ],
   "source": [
    "#Minimize using the response surface\n",
    "\n",
    "avdom = ac.domains.BoundedActiveVariableDomain(ss)\n",
    "avmap = ac.domains.BoundedActiveVariableMap(avdom)\n",
    "ystar, fstar = ac.optimizers.av_minimize(lambda x: RS.predict(x.reshape(1,1))[0], avdom) # had to change (1,1) to (1,3)\n",
    "print 'The response surface optimization results are\\n: ystar = {:.4f}, fstar = {:.4f}\\n'.\\\n",
    "    format(ystar[0,0], fstar[0,0])\n"
   ]
  },
  {
   "cell_type": "markdown",
   "metadata": {},
   "source": [
    "# Build STAR function"
   ]
  },
  {
   "cell_type": "code",
   "execution_count": 6,
   "metadata": {
    "collapsed": false
   },
   "outputs": [],
   "source": [
    "def STARS(x_init,F,mu_star,h,k,maxit):\n",
    "    \n",
    "    #x_init: initial x value\n",
    "    #F: function we wish to minimize\n",
    "    #note that lower f's are evaluations of F(*)\n",
    "    #mu_star: smoothing parameter\n",
    "    #h: step length\n",
    "    #k: noise parameter\n",
    "    #maxit: maximum number of iterations\n",
    "    \n",
    "    x=x_init\n",
    "    \n",
    "    #Evaluate F(x_init)\n",
    "    f=F(x_init) + k*(2*np.random.rand(1)-1)\n",
    "    \n",
    "    x_hist=np.array(x)\n",
    "    f_hist=np.array(f)\n",
    "    \n",
    "    for i in range(1, maxit):\n",
    "        u=np.random.normal(0,1,np.size(x_init))\n",
    "    \n",
    "        err=k*(2*np.random.rand(1) -1)\n",
    "    \n",
    "        y=x+(mu_star)*u\n",
    "        x_hist=np.vstack((x_hist,y))\n",
    "    \n",
    "        g=F(y) + err\n",
    "        f_hist=np.vstack((f_hist,g))\n",
    "    \n",
    "        s=((g - f)/mu_star)*u \n",
    "    \n",
    "        x=x - (h)*s\n",
    "        x_hist=np.vstack((x_hist,x))\n",
    "    \n",
    "        err=k*(2*np.random.rand(1) -1)\n",
    "    \n",
    "        f=F(x) + err\n",
    "        f_hist=np.vstack((f_hist,f))\n",
    "        \n",
    "    return x, f"
   ]
  },
  {
   "cell_type": "code",
   "execution_count": 11,
   "metadata": {
    "collapsed": false
   },
   "outputs": [
    {
     "name": "stdout",
     "output_type": "stream",
     "text": [
      "1048.74743532\n",
      "795.521888068\n"
     ]
    }
   ],
   "source": [
    "def function1(a):\n",
    "    a=a[0]\n",
    "    x = a[0]; y = a[1]; z = a[2]; w = a[3]; p = a[4]; q = a[5]; \n",
    "    \n",
    "    return (A*(x+y)**2+B*(z+w)**2+C*(p+q)**2+9)\n",
    "\n",
    "def function2(a):\n",
    "    a=a[0]\n",
    "    x = a[0]; y = a[1]; z = a[2]; w = a[3]; p = a[4]; q = a[5]; \n",
    "    \n",
    "    return (A*np.sin(x+y)**2+(A/2)*np.sin(z+w)**2+C*p**2)\n",
    "            \n",
    "x_test=2*np.random.rand(1,16)-np.ones(16)\n",
    "\n",
    "print(function1(x_test))\n",
    "print(function2(x_test))"
   ]
  },
  {
   "cell_type": "code",
   "execution_count": 12,
   "metadata": {
    "collapsed": false
   },
   "outputs": [
    {
     "data": {
      "text/plain": [
       "(array([[-0.50098521,  0.50166213, -0.17824776,  0.32245359, -0.75084791,\n",
       "         -0.88140202, -0.03179248,  0.38955275, -0.85756334, -0.7404553 ,\n",
       "         -0.41353806,  0.27295881, -0.4777319 , -0.30150045, -1.11610303,\n",
       "         -0.03535712]]), array([ 11.87256723]))"
      ]
     },
     "execution_count": 12,
     "metadata": {},
     "output_type": "execute_result"
    }
   ],
   "source": [
    "x_init=2*np.random.rand(1,16)-np.ones(16)\n",
    "F=function1\n",
    "mu_star=2e-4\n",
    "h=3.9e-5\n",
    "k=1e-4\n",
    "maxit=1000\n",
    "\n",
    "STARS(x_init,F,mu_star,h,k,maxit)"
   ]
  },
  {
   "cell_type": "markdown",
   "metadata": {},
   "source": [
    "# Derivative-Free Optimization using STARS Algorithm by Chen and Wild #\n",
    "\n",
    "## Algorithm 0\n",
    "\n",
    "### Pure STARS"
   ]
  },
  {
   "cell_type": "code",
   "execution_count": 33,
   "metadata": {
    "collapsed": false
   },
   "outputs": [
    {
     "name": "stdout",
     "output_type": "stream",
     "text": [
      "(1, 16)\n",
      "[[ 0.70872712  0.67271467 -0.74839643 -0.78609357  0.89561854 -0.09103663\n",
      "   0.47705948  0.21072104  0.59490957 -0.33771003 -0.58092112  0.77369971\n",
      "   0.27811514 -0.79209197  0.09409369 -0.31697684]]\n",
      "[[ 1464.71469106]]\n",
      "1e-06\n",
      "0.00146471469106\n"
     ]
    },
    {
     "data": {
      "text/plain": [
       "16"
      ]
     },
     "execution_count": 33,
     "metadata": {},
     "output_type": "execute_result"
    }
   ],
   "source": [
    "# Initialize #\n",
    "\n",
    "\n",
    "# Choose initial point and compute initial noisy function evaluation\n",
    "x=2*np.random.rand(1,16)-np.ones(16)\n",
    "print(np.shape(x))\n",
    "print(x)\n",
    "start=x\n",
    "\n",
    "f=gun(x)[0,0] + np.linalg.norm(g)*k*(2*np.random.rand(1,1)-1)\n",
    "\n",
    "F=k*np.linalg.norm(f)\n",
    "\n",
    "\n",
    "# Smoothing parameter\n",
    "mu_star=2e-4\n",
    "\n",
    "\n",
    "# Step length\n",
    "h=3.9e-5\n",
    "\n",
    "\n",
    "# Have a look\n",
    "print(f)\n",
    "print(k)\n",
    "print(F)\n",
    "np.size(x)"
   ]
  },
  {
   "cell_type": "code",
   "execution_count": 7,
   "metadata": {
    "collapsed": false
   },
   "outputs": [
    {
     "name": "stdout",
     "output_type": "stream",
     "text": [
      "[[ 1.4564625   1.6841222  -1.82750521 -1.31487513  0.3506454  -0.1751145\n",
      "  -1.02102633  0.08246888  0.14942938  0.64049209 -0.52922539 -0.40920078\n",
      "   0.03957947  0.59997705 -0.96491302  0.17648004]]\n",
      "[[ 0.12537019]]\n",
      "3.66510041541\n"
     ]
    }
   ],
   "source": [
    "# STARS Algorithm #\n",
    "\n",
    "x_hist=np.array(x)\n",
    "f_hist=np.array(f)\n",
    "\n",
    "maxit=1000\n",
    "\n",
    "for i in range(1, maxit):\n",
    "    u=np.random.normal(0,1,16)\n",
    "    \n",
    "    err=F*(2*np.random.rand(1,1) -1)\n",
    "    \n",
    "    y=x+(mu_star)*u\n",
    "    #x_hist=np.vstack((x_hist,y))\n",
    "    \n",
    "    g=gun(y)[0,0] + err\n",
    "    #f_hist=np.vstack((f_hist,g))\n",
    "    \n",
    "    s=((g - f)/mu_star)*u \n",
    "    \n",
    "    x=x - (h)*s\n",
    "    x_hist=np.vstack((x_hist,x))\n",
    "    \n",
    "    err=F*(2*np.random.rand(1,1) -1)\n",
    "    \n",
    "    f=gun(x)[0,0] + err\n",
    "    f_hist=np.vstack((f_hist,f))\n",
    "    \n",
    "print(x)    \n",
    "print(f)\n",
    "print(np.linalg.norm(x))"
   ]
  },
  {
   "cell_type": "code",
   "execution_count": 17,
   "metadata": {
    "collapsed": false
   },
   "outputs": [
    {
     "data": {
      "image/png": "[encoded data removed]",
      "text/plain": [
       "<matplotlib.figure.Figure at 0x7f24ea1614d0>"
      ]
     },
     "metadata": {},
     "output_type": "display_data"
    }
   ],
   "source": [
    "\n",
    "plt.plot(f_hist[900:])\n",
    "plt.show()"
   ]
  },
  {
   "cell_type": "markdown",
   "metadata": {},
   "source": [
    "# Use STARS and Active Subspace Analysis Together"
   ]
  },
  {
   "cell_type": "markdown",
   "metadata": {},
   "source": [
    "## Algorithm 1\n",
    "\n",
    "### Using the Active Subspace already computed above\n",
    "### Run STARS maxit times, then project iterate into the already-computed A.S.\n",
    "### Repeat this Maxit times"
   ]
  },
  {
   "cell_type": "code",
   "execution_count": 26,
   "metadata": {
    "collapsed": false
   },
   "outputs": [
    {
     "name": "stdout",
     "output_type": "stream",
     "text": [
      "(1, 16)\n",
      "[[ 0.90292471  0.75466141 -0.92474335 -0.78562276  0.51311144 -0.75169715\n",
      "  -0.73859566 -0.21978266  0.11580684  0.94018037 -0.59348774 -0.81458633\n",
      "   0.37178882  0.60450766 -0.94107658  0.07493313]]\n",
      "[[ 1483.07292654]]\n",
      "1e-06\n",
      "0.00148307292654\n"
     ]
    }
   ],
   "source": [
    "# Initialize #\n",
    "\n",
    "\n",
    "# Choose initial point and compute initial noisy function evaluation\n",
    "#x=2*np.random.rand(1,16)-np.ones(16)\n",
    "x=start\n",
    "print(np.shape(x))\n",
    "print(x)\n",
    "\n",
    "f=gun(x)[0,0] + np.linalg.norm(g)*k*(2*np.random.rand(1,1)-1)\n",
    "\n",
    "F=k*np.linalg.norm(f)\n",
    "\n",
    "\n",
    "# Smoothing parameter\n",
    "mu_star=2e-4\n",
    "\n",
    "\n",
    "# Step length\n",
    "h=3.9e-5\n",
    "\n",
    "\n",
    "# Have a look\n",
    "print(f)\n",
    "print(k)\n",
    "print(F)"
   ]
  },
  {
   "cell_type": "code",
   "execution_count": 27,
   "metadata": {
    "collapsed": false
   },
   "outputs": [
    {
     "name": "stdout",
     "output_type": "stream",
     "text": [
      "[[ 1.58563963  1.5546747   0.07203378  0.05158619  0.13537928 -0.12428994\n",
      "   0.02331472  0.00161385 -0.10508356 -0.00377102 -0.07992588 -0.06713625\n",
      "  -0.0213743  -0.05574531 -0.05332732 -0.08866175]]\n",
      "[[ 7.62232467]]\n",
      "2.23822685851\n"
     ]
    }
   ],
   "source": [
    "# Iterate both STARS and AS in tandem\n",
    "\n",
    "# This algorithm assumes AS has already been computed\n",
    "\n",
    "# We run STARS maxit times, project the resulting iterate into the AS, and repeat.\n",
    "\n",
    "f_hist=np.array(f)\n",
    "\n",
    "# Set iteration counters\n",
    "maxit=500\n",
    "Maxit=20\n",
    "\n",
    "for i in range(1,Maxit):\n",
    "    \n",
    "    # STARS\n",
    "    \n",
    "    for i in range(1, maxit):\n",
    "        u=np.random.normal(0,1,16) #random step for STARS\n",
    "    \n",
    "        err=F*(2*np.random.rand(1,1) -1) #additive noise for function\n",
    "        \n",
    "        g=gun(x+(mu_star)*u)[0,0] + err\n",
    "    \n",
    "        s=((g - f)/mu_star)*u \n",
    "    \n",
    "        x=x - (h)*s\n",
    "        \n",
    "        err=F*(2*np.random.rand(1,1) -1)\n",
    "        \n",
    "        f=gun(x)[0,0] + err\n",
    "        f_hist=np.vstack((f_hist,f))\n",
    "    \n",
    "    # Project the new x value into the active subspace ss.W1\n",
    "    \n",
    "    x=(x.reshape((1, 16)).dot(ss.W1))*ss.W1\n",
    "    x=x.reshape(1,16)\n",
    "    \n",
    "    err=F*(2*np.random.rand(1,1) -1)\n",
    "    \n",
    "    f=gun(x)[0,0] + err\n",
    "\n",
    "print(x)    \n",
    "print(f)\n",
    "print(np.linalg.norm(x))"
   ]
  },
  {
   "cell_type": "code",
   "execution_count": 28,
   "metadata": {
    "collapsed": false
   },
   "outputs": [
    {
     "data": {
      "image/png": "[encoded data removed]",
      "text/plain": [
       "<matplotlib.figure.Figure at 0x7f24ea0dbc90>"
      ]
     },
     "metadata": {},
     "output_type": "display_data"
    }
   ],
   "source": [
    "\n",
    "plt.plot(f_hist[500:])\n",
    "plt.show()"
   ]
  },
  {
   "cell_type": "markdown",
   "metadata": {},
   "source": [
    "## Algorithm 2\n",
    "\n",
    "### Using the Active Subspace already computed above\n",
    "### Run STARS maxit times, then moves iterates into the direction of the already-computed A.S.\n",
    "### Repeat this Maxit times"
   ]
  },
  {
   "cell_type": "code",
   "execution_count": 40,
   "metadata": {
    "collapsed": false
   },
   "outputs": [
    {
     "name": "stdout",
     "output_type": "stream",
     "text": [
      "(1, 16)\n",
      "[[ 0.09676458  0.09554869  0.59595953 -0.11459709  0.90940066 -0.60248724\n",
      "  -0.59833292 -0.11384172  0.17820495 -0.01262369  0.43672543 -0.9711705\n",
      "  -0.66411943 -0.36376876 -0.92097413 -0.93444522]]\n",
      "[[48.39450381]]\n",
      "1e-06\n",
      "4.839450380808981e-05\n"
     ]
    }
   ],
   "source": [
    "# Initialize #\n",
    "\n",
    "\n",
    "# Choose initial point and compute initial noisy function evaluation\n",
    "x=2*np.random.rand(1,16)-np.ones(16)\n",
    "print(np.shape(x))\n",
    "print(x)\n",
    "\n",
    "f=fun(x)[0,0] + np.linalg.norm(f)*k*(2*np.random.rand(1,1)-1)\n",
    "\n",
    "F=k*np.linalg.norm(f)\n",
    "\n",
    "\n",
    "# Smoothing parameter\n",
    "mu_star=2e-3\n",
    "\n",
    "\n",
    "# Step length\n",
    "h=3.9e-4\n",
    "\n",
    "\n",
    "# Have a look\n",
    "print(f)\n",
    "print(k)\n",
    "print(F)"
   ]
  },
  {
   "cell_type": "code",
   "execution_count": 41,
   "metadata": {
    "collapsed": false
   },
   "outputs": [
    {
     "name": "stdout",
     "output_type": "stream",
     "text": [
      "[ 7.00721976e-01  7.05388597e-01  2.08464768e-02 -1.22416001e-02\n",
      " -1.25094109e-02  4.41734414e-04 -1.64182519e-02 -1.68305149e-02\n",
      " -7.60276981e-02 -2.55906212e-03 -1.90881332e-02  2.66882784e-02\n",
      "  1.30061541e-02  5.36760617e-02 -1.24732296e-02  7.24286288e-03]\n",
      "(16,)\n",
      "[[ 0.79748655  0.80093729  0.616806   -0.12683869  0.89689125 -0.6020455\n",
      "  -0.61475117 -0.13067224  0.10217725 -0.01518275  0.41763729 -0.94448222\n",
      "  -0.65111327 -0.3100927  -0.93344736 -0.92720236]]\n"
     ]
    }
   ],
   "source": [
    "# This algorithm assumes AS has already been computed\n",
    "\n",
    "# We run STARS maxit times.\n",
    "# Instead of projecting the iterate, we instead only let the random vector u\n",
    "# step in the direction of the AS. This is done by only drawing a scalar value off of N(0,1)\n",
    "# and using it as the coefficient to the vector \"sub,\" the first principal vector computed from the AS\n",
    "\n",
    "# Set Maximum iteration counter for outside for loop\n",
    "Maxit=20000\n",
    "\n",
    "# We initialize the random vector u==ss.W1, the eigenvector from A.S. calculation above\n",
    "# Warning: Right now this is just one vector; could be several of them with a different f\n",
    "\n",
    "sub=ss.W1[:,0]\n",
    "\n",
    "#sub=np.random.normal(0,1,16)\n",
    "\n",
    "print(sub)\n",
    "print(np.shape(sub))\n",
    "print(x+sub)"
   ]
  },
  {
   "cell_type": "code",
   "execution_count": 42,
   "metadata": {
    "collapsed": false
   },
   "outputs": [
    {
     "name": "stdout",
     "output_type": "stream",
     "text": [
      "(1, 16)\n",
      "[[ 1.17347494e-03 -6.79016940e-04  5.93115691e-01 -1.12927116e-01\n",
      "   9.11107172e-01 -6.02547496e-01 -5.96093170e-01 -1.11545738e-01\n",
      "   1.88576496e-01 -1.22745837e-02  4.39329392e-01 -9.74811258e-01\n",
      "  -6.65893703e-01 -3.71091144e-01 -9.19272556e-01 -9.35433280e-01]]\n",
      "[[11.40123107]]\n",
      "2.3250138611187023\n"
     ]
    }
   ],
   "source": [
    "for i in range(1,Maxit):\n",
    "    \n",
    "    sclr=np.random.normal(0,1) #random step (now just a scalar) for STARS -- normal or unif????\n",
    "    #sclr=2*np.random.rand(1,1)-1\n",
    "        \n",
    "    u=sclr*sub\n",
    "        \n",
    "    err=F*(2*np.random.rand(1,1) -1) #additive noise for function\n",
    "        \n",
    "    g=fun(x+(mu_star)*u)[0,0] + err\n",
    "    \n",
    "    s=((g - f)/mu_star)*u \n",
    "    \n",
    "    x=x - (h)*s\n",
    "    \n",
    "    err=F*(2*np.random.rand(1,1) -1)\n",
    "    \n",
    "    f=fun(x)[0,0] + err\n",
    "        \n",
    "print(np.shape(x))\n",
    "print(x)\n",
    "print(f)\n",
    "print(np.linalg.norm(x))\n",
    "#print(x.reshape((1, 16)).dot(sub)*sub)"
   ]
  },
  {
   "cell_type": "markdown",
   "metadata": {},
   "source": [
    "## Algorithm 3\n",
    "\n",
    "### Learns Active Subspace by storage of all $x$ and $f(x)$ values\n",
    "### Run STARS maxit times, compute A.S. using data, project current iterate into A.S.\n",
    "### Repeat this Maxit times"
   ]
  },
  {
   "cell_type": "code",
   "execution_count": 43,
   "metadata": {
    "collapsed": false
   },
   "outputs": [
    {
     "name": "stdout",
     "output_type": "stream",
     "text": [
      "(1, 16)\n",
      "[[ 0.28330602  0.29776522 -0.5226332   0.85155929  0.76355195  0.17055469\n",
      "  -0.52412289  0.32179176 -0.05838409  0.94868537 -0.1748469  -0.51083808\n",
      "  -0.27047478 -0.50609042  0.12208232  0.52344596]]\n",
      "[[348.59825544]]\n",
      "1e-06\n",
      "0.00034859825544312107\n"
     ]
    }
   ],
   "source": [
    "# Initialize #\n",
    "\n",
    "\n",
    "# Choose initial point and compute initial noisy function evaluation\n",
    "x=2*np.random.rand(1,16)-np.ones(16)\n",
    "print(np.shape(x))\n",
    "print(x)\n",
    "\n",
    "f=fun(x)[0,0] + np.linalg.norm(f)*k*(2*np.random.rand(1,1)-1)\n",
    "\n",
    "F=k*np.linalg.norm(f)\n",
    "\n",
    "\n",
    "# Smoothing parameter\n",
    "mu_star=2e-4\n",
    "\n",
    "\n",
    "# Step length\n",
    "h=3.9e-5\n",
    "\n",
    "\n",
    "# Have a look\n",
    "print(f)\n",
    "print(k)\n",
    "print(F)"
   ]
  },
  {
   "cell_type": "code",
   "execution_count": 44,
   "metadata": {
    "collapsed": false
   },
   "outputs": [
    {
     "name": "stdout",
     "output_type": "stream",
     "text": [
      "[[ 2.83760876e-04  2.85339187e-04 -1.89456864e-08 -4.39689055e-07\n",
      "  -1.10231464e-06  1.31952229e-06  2.11972951e-06  8.72309343e-07\n",
      "  -1.40857514e-06 -4.92649315e-07  1.42290884e-06 -1.48736175e-06\n",
      "   8.49660476e-07 -6.10426728e-07  1.17288303e-07  1.63439459e-06]]\n",
      "[[9.00032732]]\n",
      "(3592, 1)\n",
      "0.00040243922947663896\n",
      "[ 7.05102423e-01  7.09024284e-01 -4.70771361e-05 -1.09256013e-03\n",
      " -2.73908347e-03  3.27881128e-03  5.26720397e-03  2.16755544e-03\n",
      " -3.50009401e-03 -1.22415828e-03  3.53571108e-03 -3.69586670e-03\n",
      "  2.11127647e-03 -1.51681716e-03  2.91443514e-04  4.06122085e-03]\n",
      "1.0\n"
     ]
    }
   ],
   "source": [
    "# This algorithm assumes AS has NOT already been computed\n",
    "\n",
    "# We run STARS maxit times, compute AS with those f values, project current iterate x_k into the AS, and repeat.\n",
    "\n",
    "# For more exploratory x and f(x) values, we have optional random draws in [-1,1] with each STARS iteration\n",
    "\n",
    "# Set Maximum iteration counters\n",
    "maxit=200\n",
    "Maxit=10\n",
    "x_hist=np.array(x)\n",
    "f_hist=np.array(f)\n",
    "\n",
    "\n",
    "for i in range(1,Maxit):\n",
    "    \n",
    "    # STARS\n",
    "    \n",
    "    for i in range(1, maxit):\n",
    "        u=np.random.normal(0,1,16) #random step for STARS\n",
    "    \n",
    "        err=F*(2*np.random.rand(1,1) -1) #additive noise for function\n",
    "        \n",
    "        y=x+(mu_star)*u\n",
    "        x_hist=np.vstack((x_hist,y))\n",
    "        \n",
    "        g=fun(y)[0,0] + err\n",
    "        f_hist=np.vstack((f_hist,g))\n",
    "    \n",
    "        s=((g - f)/mu_star)*u \n",
    "    \n",
    "        x=x - (h)*s \n",
    "        x_hist=np.vstack((x_hist,x))\n",
    "        \n",
    "        err=F*(2*np.random.rand(1,1) -1)\n",
    "    \n",
    "        f=fun(x)[0,0] + err\n",
    "        f_hist=np.vstack((f_hist,f))\n",
    "        \n",
    "        # Exploratory x values, definitely cheating if f is expensive.\n",
    "        #expval=2*np.random.rand(1,16)-np.ones(16)\n",
    "        #fexpval=fun(expval)[0,0] + err\n",
    "        \n",
    "        #x_hist=np.vstack((x_hist,expval))\n",
    "        #f_hist=np.vstack((f_hist,fexpval))\n",
    "    \n",
    "    # Compute AS using function values stored in f_hist\n",
    "    \n",
    "    # Instantiate a subspace object\n",
    "    ss = ac.subspaces.Subspaces()\n",
    "\n",
    "    # Use Local Linears\n",
    "    #df = ac.gradients.local_linear_gradients(x_hist, f_hist) #Estimated gradients using local linear models\n",
    "    #ss.compute(df=df, nboot=0)\n",
    "    \n",
    "    # Use Global Quadratic\n",
    "    ss.compute(X=x_hist, f=f_hist, nboot=0, sstype='QPHD')\n",
    "\n",
    "    \n",
    "    \n",
    "    sub=ss.eigenvecs[:,0]\n",
    "\n",
    "    \n",
    "    \n",
    "    # Project the new x value into the active subspace ss.W1\n",
    "    \n",
    "    x=(x.reshape((1, 16)).dot(sub))*sub\n",
    "    x=x.reshape(1,16)\n",
    "    x_hist=np.vstack((x_hist,x))\n",
    "    \n",
    "    err=F*(2*np.random.rand(1,1) -1)\n",
    "    \n",
    "    f=fun(x)[0,0] + err\n",
    "    f_hist=np.vstack((f_hist,f))\n",
    "\n",
    "print(x)    \n",
    "print(f)\n",
    "print(np.shape(f_hist))\n",
    "print(np.linalg.norm(x))\n",
    "print(sub)\n",
    "print(np.linalg.norm(sub))"
   ]
  },
  {
   "cell_type": "markdown",
   "metadata": {},
   "source": [
    "## Algorithm 4\n",
    "\n",
    "### Learns Active Subspace by storage of all $x$ and $f(x)$ values\n",
    "### Run STARS maxit times, compute A.S. using data, moves iterates in direction of A.S.\n",
    "### Repeat this Maxit times"
   ]
  },
  {
   "cell_type": "code",
   "execution_count": 49,
   "metadata": {
    "collapsed": false
   },
   "outputs": [
    {
     "name": "stdout",
     "output_type": "stream",
     "text": [
      "(1, 16)\n",
      "[[-0.47155602 -0.76381725  0.61323741 -0.70882891  0.30827075  0.52363295\n",
      "  -0.31306738 -0.21862442 -0.45314139  0.7007247  -0.62307272 -0.62642014\n",
      "   0.25880846  0.87095737 -0.98946388  0.28909236]]\n",
      "[[1535.94256389]]\n",
      "1e-06\n",
      "0.0015359425638863866\n"
     ]
    }
   ],
   "source": [
    "# Initialize #\n",
    "\n",
    "\n",
    "# Choose initial point and compute initial noisy function evaluation\n",
    "x=2*np.random.rand(1,16)-np.ones(16)\n",
    "print(np.shape(x))\n",
    "print(x)\n",
    "\n",
    "f=fun(x)[0,0] + np.linalg.norm(f)*k*(2*np.random.rand(1,1)-1)\n",
    "\n",
    "F=k*np.linalg.norm(f)\n",
    "\n",
    "\n",
    "# Smoothing parameter\n",
    "mu_star=2e-3\n",
    "\n",
    "\n",
    "# Step length\n",
    "h=3.9e-4\n",
    "\n",
    "\n",
    "# Have a look\n",
    "print(f)\n",
    "print(k)\n",
    "print(F)"
   ]
  },
  {
   "cell_type": "code",
   "execution_count": 50,
   "metadata": {
    "collapsed": false
   },
   "outputs": [
    {
     "name": "stdout",
     "output_type": "stream",
     "text": [
      "[[ 1.65648797 -1.6439814  -0.15676672  0.49422538  1.60850477  1.75745738\n",
      "   1.10704389 -0.58763255 -1.82580765  2.22260376  2.21831634  1.39556212\n",
      "   2.40185262  2.65418966 -0.28508847  0.45169441]]\n",
      "[[21.62408239]]\n",
      "6.4189756283280275\n",
      "[ 0.16076597 -0.24559128 -0.00944414  0.02231862  0.26969169  0.30572879\n",
      "  0.19435496 -0.10410646 -0.29846073  0.3063007   0.32895374  0.15787029\n",
      "  0.35594643  0.49861039 -0.05367754  0.06490172]\n",
      "(3583, 16)\n",
      "(3583, 1)\n"
     ]
    }
   ],
   "source": [
    "# This algorithm assumes AS has NOT already been computed\n",
    "\n",
    "# We run STARS maxit times, compute AS with those f values.\n",
    "\n",
    "# Instead of projecting the iterate, we instead only let the random vector u\n",
    "# step in the direction of the AS. This is done by only drawing a scalar value off of N(0,1)\n",
    "# and using it as the coefficient to the vector \"sub,\" the first principal vector computed from the AS\n",
    "\n",
    "# For more exploratory x and f(x) values, we have optional random draws in [-1,1] with each STARS iteration\n",
    "\n",
    "# Set Maximum iteration counter for outside for loop\n",
    "maxit=200\n",
    "Maxit=10\n",
    "x_hist=np.array(x)\n",
    "f_hist=np.array(f)\n",
    "\n",
    "# We initialize the random vector u==sub, since we don't know the AS yet\n",
    "sub=np.random.normal(0,1,16)\n",
    "\n",
    "for i in range(1,Maxit):\n",
    "    \n",
    "    # STARS\n",
    "    \n",
    "    for i in range(1, maxit):\n",
    "        sclr=np.random.normal(0,1) #random step (now just a scalar) for STARS -- unif or normal???\n",
    "        #sclr=2*np.random.rand(1,1)-1\n",
    "        \n",
    "        u=sclr*sub\n",
    "        \n",
    "        err=F*(2*np.random.rand(1,1) -1) #additive noise for function\n",
    "        \n",
    "        y=x+(mu_star)*u\n",
    "        x_hist=np.vstack((x_hist,x))\n",
    "        \n",
    "        g=fun(y)[0,0] + err\n",
    "        f_hist=np.vstack((f_hist,g))\n",
    "    \n",
    "        s=((g - f)/mu_star)*u \n",
    "    \n",
    "        x=x - (h)*s \n",
    "        x_hist=np.vstack((x_hist,x))\n",
    "        \n",
    "        err=F*(2*np.random.rand(1,1) -1)\n",
    "        \n",
    "        f=fun(x)[0,0] + err\n",
    "        f_hist=np.vstack((f_hist,f))\n",
    "        \n",
    "    \n",
    "    # Compute AS using function values stored in f_hist\n",
    "    \n",
    "    # Instantiate a subspace object\n",
    "    ss = ac.subspaces.Subspaces()\n",
    "\n",
    "    # Use Local Linears\n",
    "    #df = ac.gradients.local_linear_gradients(x_hist, f_hist) #Estimated gradients using local linear models\n",
    "    #ss.compute(df=df, nboot=0)\n",
    "    \n",
    "    # Use Global Quadratic\n",
    "    ss.compute(X=x_hist, f=f_hist, nboot=0, sstype='QPHD')\n",
    "\n",
    "    \n",
    "    \n",
    "    sub=ss.eigenvecs[:,0]\n",
    "    \n",
    "print(x)    \n",
    "print(f)\n",
    "print(np.linalg.norm(x))\n",
    "print(sub)\n",
    "print(x_hist.shape)\n",
    "print(f_hist.shape)"
   ]
  },
  {
   "cell_type": "code",
   "execution_count": 51,
   "metadata": {
    "collapsed": true
   },
   "outputs": [],
   "source": [
    "### Algo. 5"
   ]
  },
  {
   "cell_type": "code",
   "execution_count": 58,
   "metadata": {
    "collapsed": false
   },
   "outputs": [
    {
     "name": "stdout",
     "output_type": "stream",
     "text": [
      "(1, 16)\n",
      "[[ 0.03196885  0.13510409 -0.43521391  0.72246021 -0.54015644  0.47384622\n",
      "  -0.60873428  0.7646296   0.94719299  0.7907885   0.18238999  0.95026946\n",
      "   0.80291642 -0.53433375 -0.14128336 -0.52126485]]\n",
      "[[37.74286077]]\n",
      "1e-06\n",
      "3.774286076688806e-05\n"
     ]
    }
   ],
   "source": [
    "# Initialize #\n",
    "\n",
    "\n",
    "# Choose initial point and compute initial noisy function evaluation\n",
    "x=2*np.random.rand(1,16)-np.ones(16)\n",
    "print(np.shape(x))\n",
    "print(x)\n",
    "\n",
    "f=fun(x)[0,0] + np.linalg.norm(f)*k*(2*np.random.rand(1,1)-1)\n",
    "\n",
    "F=k*np.linalg.norm(f)\n",
    "\n",
    "\n",
    "# Smoothing parameter\n",
    "mu_star=2e-3\n",
    "\n",
    "\n",
    "# Step length\n",
    "h=3.9e-5\n",
    "\n",
    "\n",
    "# Have a look\n",
    "print(f)\n",
    "print(k)\n",
    "print(F)"
   ]
  },
  {
   "cell_type": "code",
   "execution_count": 59,
   "metadata": {
    "collapsed": false
   },
   "outputs": [
    {
     "name": "stdout",
     "output_type": "stream",
     "text": [
      "[[ 5.47870979e-04  5.48095459e-04 -1.45408506e-06  1.38370223e-07\n",
      "  -4.27375526e-07 -1.28937112e-06 -3.51292899e-07 -1.19319377e-06\n",
      "   1.98498438e-07 -1.17670346e-06 -5.51439705e-07  2.05004153e-07\n",
      "   1.07312124e-06  5.97678645e-07  3.26894830e-07  6.79634822e-07]]\n",
      "[[9.00120889]]\n",
      "(200, 1)\n",
      "0.0007749713645858626\n",
      "[ 7.06956417e-01  7.07246079e-01 -1.87630811e-03  1.78548820e-04\n",
      " -5.51472668e-04 -1.66376614e-03 -4.53297909e-04 -1.53966175e-03\n",
      "  2.56136481e-04 -1.51838314e-03 -7.11561394e-04  2.64531262e-04\n",
      "  1.38472373e-03  7.71226748e-04  4.21815366e-04  8.76980561e-04]\n",
      "1.0000000000000002\n"
     ]
    },
    {
     "data": {
      "image/png": "[encoded data removed]",
      "text/plain": [
       "<Figure size 504x504 with 1 Axes>"
      ]
     },
     "metadata": {},
     "output_type": "display_data"
    },
    {
     "data": {
      "image/png": "[encoded data removed]",
      "text/plain": [
       "<Figure size 504x504 with 1 Axes>"
      ]
     },
     "metadata": {},
     "output_type": "display_data"
    }
   ],
   "source": [
    "# This algorithm assumes AS has NOT already been computed\n",
    "\n",
    "# STARS burn-in followed by active subspace calculation\n",
    "\n",
    "# Set Maximum iteration counters\n",
    "Maxit=100\n",
    "x_hist=np.array(x)\n",
    "f_hist=np.array(f)\n",
    "\n",
    "\n",
    "for i in range(1,Maxit):\n",
    "    \n",
    "   \n",
    "    u=np.random.normal(0,1,16) #random step for STARS\n",
    "    \n",
    "    err=F*(2*np.random.rand(1,1) -1) #additive noise for function\n",
    "        \n",
    "    y=x+(mu_star)*u\n",
    "    x_hist=np.vstack((x_hist,y))\n",
    "        \n",
    "    g=fun(y)[0,0] + err\n",
    "    f_hist=np.vstack((f_hist,g))\n",
    "    \n",
    "    s=((g - f)/mu_star)*u \n",
    "    \n",
    "    x=x - (h)*s \n",
    "    x_hist=np.vstack((x_hist,x))\n",
    "        \n",
    "    err=F*(2*np.random.rand(1,1) -1)\n",
    "    \n",
    "    f=fun(x)[0,0] + err\n",
    "    f_hist=np.vstack((f_hist,f))\n",
    "        \n",
    "    \n",
    "# Compute AS using function values stored in f_hist\n",
    "    \n",
    "# Instantiate a subspace object\n",
    "ss = ac.subspaces.Subspaces()\n",
    "\n",
    "    # Use Local Linears\n",
    "    #df = ac.gradients.local_linear_gradients(x_hist, f_hist) #Estimated gradients using local linear models\n",
    "    #ss.compute(df=df, nboot=0)\n",
    "    \n",
    "    # Use Global Quadratic\n",
    "ss.compute(X=x_hist, f=f_hist, nboot=0, sstype='QPHD')\n",
    "\n",
    "    \n",
    "    \n",
    "sub=ss.eigenvecs[:,0]\n",
    "\n",
    "    \n",
    "    \n",
    "    # Project the new x value into the active subspace ss.W1\n",
    "    \n",
    "x=(x.reshape((1, 16)).dot(sub))*sub\n",
    "x=x.reshape(1,16)\n",
    "x_hist=np.vstack((x_hist,x))\n",
    "    \n",
    "err=F*(2*np.random.rand(1,1) -1)\n",
    "    \n",
    "f=fun(x)[0,0] + err\n",
    "f_hist=np.vstack((f_hist,f))\n",
    "\n",
    "print(x)    \n",
    "print(f)\n",
    "print(np.shape(f_hist))\n",
    "print(np.linalg.norm(x))\n",
    "print(sub)\n",
    "print(np.linalg.norm(sub))\n",
    "\n",
    "\n",
    "ac.utils.plotters.eigenvalues(ss.eigenvals, ss.e_br)\n",
    "#ac.utils.plotters.subspace_errors(ss.sub_br)\n",
    "ac.utils.plotters.sufficient_summary(x_hist.dot(ss.W1), f_hist)\n"
   ]
  },
  {
   "cell_type": "code",
   "execution_count": 60,
   "metadata": {
    "collapsed": false
   },
   "outputs": [
    {
     "name": "stdout",
     "output_type": "stream",
     "text": [
      "[[-6.24097017e-04 -6.24352729e-04  1.65639390e-06 -1.57621861e-07\n",
      "   4.86836866e-07  1.46876308e-06  4.00168760e-07  1.35920444e-06\n",
      "  -2.26115797e-07  1.34041981e-06  6.28162264e-07 -2.33526661e-07\n",
      "  -1.22242606e-06 -6.80834491e-07 -3.72376154e-07 -7.74193343e-07]]\n",
      "[[9.0015509]]\n"
     ]
    }
   ],
   "source": [
    "maxit=1000\n",
    "\n",
    "# Smoothing parameter\n",
    "mu_star=2e-3\n",
    "\n",
    "\n",
    "# Step length\n",
    "h=3.9e-4\n",
    "\n",
    "for i in range(1, maxit):\n",
    "        sclr=np.random.normal(0,1) #random step (now just a scalar) for STARS -- unif or normal???\n",
    "        #sclr=2*np.random.rand(1,1)-1\n",
    "        \n",
    "        u=sclr*sub\n",
    "        \n",
    "        err=F*(2*np.random.rand(1,1) -1) #additive noise for function\n",
    "        \n",
    "        y=x+(mu_star)*u\n",
    "        #x_hist=np.vstack((x_hist,x))\n",
    "        \n",
    "        g=fun(y)[0,0] + err\n",
    "        #f_hist=np.vstack((f_hist,g))\n",
    "    \n",
    "        s=((g - f)/mu_star)*u \n",
    "    \n",
    "        x=x - (h)*s \n",
    "        #x_hist=np.vstack((x_hist,x))\n",
    "        \n",
    "        err=F*(2*np.random.rand(1,1) -1)\n",
    "        \n",
    "        f=fun(x)[0,0] + err\n",
    "        #f_hist=np.vstack((f_hist,f))\n",
    "  \n",
    "    \n",
    "print(x)\n",
    "print(f)"
   ]
  },
  {
   "cell_type": "code",
   "execution_count": null,
   "metadata": {
    "collapsed": true
   },
   "outputs": [],
   "source": []
  }
 ],
 "metadata": {
  "kernelspec": {
   "display_name": "Python 2",
   "language": "python",
   "name": "python2"
  },
  "language_info": {
   "codemirror_mode": {
    "name": "ipython",
    "version": 2
   },
   "file_extension": ".py",
   "mimetype": "text/x-python",
   "name": "python",
   "nbconvert_exporter": "python",
   "pygments_lexer": "ipython2",
   "version": "2.7.13"
  }
 },
 "nbformat": 4,
 "nbformat_minor": 2
}
