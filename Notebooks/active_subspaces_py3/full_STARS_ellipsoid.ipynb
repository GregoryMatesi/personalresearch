{
 "cells": [
  {
   "cell_type": "code",
   "execution_count": 1,
   "metadata": {},
   "outputs": [],
   "source": [
    "%matplotlib inline\n",
    "import active_subspaces as ac\n",
    "import numpy as np\n",
    "import matplotlib.pyplot as plt"
   ]
  },
  {
   "cell_type": "markdown",
   "metadata": {},
   "source": [
    "## Noise Variance Learning"
   ]
  },
  {
   "cell_type": "code",
   "execution_count": 2,
   "metadata": {},
   "outputs": [],
   "source": [
    "def ECNOISE(x_b, F, M):\n",
    "\n",
    "    # x_b: a base point in domain; must be a column vector\n",
    "    # F: function with noise we wish to estimate\n",
    "    # M: number of points sampled along a curve; must have M>/2\n",
    "    \n",
    "    # Throw an error for not sampling enough points\n",
    "    if M<2:\n",
    "        return print('Please select M=2 or larger.')\n",
    "        \n",
    "    # Read in dimension of domain\n",
    "    N=np.shape(x_b)[0]\n",
    "    \n",
    "    # Initialize storage for difference table\n",
    "    T = np.zeros((M,M))\n",
    "    \n",
    "    # We pick a direction to sample in, and normalize it:\n",
    "    p = np.ones((N,1))/np.sqrt(N)\n",
    "    \n",
    "    # Form difference table\n",
    "    for i in range(0,M):\n",
    "        T[i,0] = F(x_b + (i/M)*p)\n",
    "\n",
    "    for j in range(0,M-1):\n",
    "        for i in range(0,M-j-1):\n",
    "            T[i,j+1] = T[i+1,j] - T[i,j]\n",
    "            \n",
    "    # Make a row vector to store the k-level estimators (sigma_k^2) \n",
    "    S = np.zeros((1,M))\n",
    "    \n",
    "    # Build S according to paper; each k-th component of S is the k-th level estimator for the variance in our noise\n",
    "    # which is computed using a scaled average of the k-th level difference values, from the difference table T\n",
    "    for i in range(1,M):\n",
    "        S[0,i] = ((np.math.factorial(i)**2.)/np.math.factorial(2*i))*(1./(M-i))*np.sum(T[:,i]**2,axis=0)\n",
    "\n",
    "    S=S[:,1:] # Don't need the first column (because first col. of T just holds function values!)\n",
    "    \n",
    "    possible_estimator = np.sum(S[:,2:], axis=1)/(M-1)\n",
    "    est_var = possible_estimator\n",
    "    \n",
    "    return [S, est_var[0]]"
   ]
  },
  {
   "cell_type": "markdown",
   "metadata": {},
   "source": [
    "## Lipschitz Constant Learning"
   ]
  },
  {
   "cell_type": "code",
   "execution_count": 3,
   "metadata": {},
   "outputs": [],
   "source": [
    "def LIPS(F, M, N, est_var):\n",
    "    \n",
    "    # F: noisy function we wish to obtain an estimate of L_! for\n",
    "    # M: number of times we wish to draw points and estimate L_1\n",
    "    # N: dimension of inputs\n",
    "    # est_var: the estimated variance of the noise in f\n",
    "    \n",
    "    # We need to estimate max ||f''|| roughly and cheaply\n",
    "    \n",
    "    # Constants we need\n",
    "    std=est_var**0.5\n",
    "    eps_star=3*std\n",
    "    \n",
    "    # Take a random draw\n",
    "    x_0=10*(2*np.random.rand(N,1) - np.ones((N,1)))\n",
    "\n",
    "    # Define an arbitrary unit vector\n",
    "    unit_v=np.ones((N,1))/(N**(1/N))\n",
    "    \n",
    "    # Step size\n",
    "    h=std**0.25\n",
    "\n",
    "    # Computes a centered finite difference to approximate f'' at x_0\n",
    "    F_m=F(x_0 - h*unit_v)\n",
    "    F_0=F(x_0)\n",
    "    F_p=F(x_0 + h*unit_v)\n",
    "    diff = abs(F_p - 2*F_0 + F_m)\n",
    "\n",
    "    # Our guess for ||f''||\n",
    "    mu_f2=diff/(N*h**2)\n",
    "    \n",
    "    # Now we will take draws and estimate L_1\n",
    "    \n",
    "    x_vals=np.zeros((N,1)) # matrix to store the vectors we randomly make\n",
    "    grads=np.zeros((N,1)) # matrix to store the gradients we approximate\n",
    "    ratios=np.zeros((M,1)) # vector storing the ratios we are intersted in!\n",
    "    h_star=(8**0.25)*np.sqrt(std/mu_f2) # the prescribed step size by Chen/More\n",
    "\n",
    "    for j in range(0,M):\n",
    "\n",
    "        # Take two draws inside a large hypercube and store them\n",
    "        x=100*(2*np.random.rand(N,1) - np.ones((N,1)))\n",
    "        y=100*(2*np.random.rand(N,1) - np.ones((N,1)))\n",
    "        x_vals=np.hstack((x_vals,x))\n",
    "        x_vals=np.hstack((x_vals,y))\n",
    "\n",
    "        # For loop to make finite diff approx's \n",
    "        # to each partial and form approx gradient at x\n",
    "        approx_grad_x=np.zeros((N,1))\n",
    "        for i in range(0,N):\n",
    "            e = np.zeros((N,1))\n",
    "            e[i] = 1.0\n",
    "            approx_grad_x[i] = (F(x + h_star*e) - F(x))/h_star\n",
    "    \n",
    "        # Store the gradient at x\n",
    "        grads=np.hstack((grads,approx_grad_x))\n",
    "    \n",
    "        # For loop to make finite diff approx's \n",
    "        # to each partial and form approx gradient at y\n",
    "        approx_grad_y=np.zeros((N,1))\n",
    "        for p in range(0,N):\n",
    "            e = np.zeros((N,1))\n",
    "            e[p] = 1.0\n",
    "            approx_grad_y[p] = (F(y + h_star*e) - F(y))/h_star\n",
    "    \n",
    "        # Store the gradient at y\n",
    "        grads=np.hstack((grads,approx_grad_y))\n",
    "    \n",
    "        # Form ratios to estimate L_1\n",
    "        # Note we subtract by 2*eps_star, which was mentioned in Callies paper\n",
    "        diff_1=np.linalg.norm(approx_grad_x - approx_grad_y) - 2*eps_star\n",
    "        diff_2=np.linalg.norm(x-y)\n",
    "        r=diff_1/diff_2\n",
    "        ratios[j]=r\n",
    "    \n",
    "    x_vals=x_vals[:,1:]\n",
    "    grads=grads[:,1:]\n",
    "    \n",
    "    # Take most pessimistic draw?\n",
    "    L_1_est=(np.max(ratios))\n",
    "\n",
    "    #print('the ratios are', np.transpose(ratios),'and our estimate to L_1 is', L_1_est)\n",
    "    return [L_1_est]\n",
    "    \n",
    "    \n",
    "    "
   ]
  },
  {
   "cell_type": "markdown",
   "metadata": {},
   "source": [
    "## STARS"
   ]
  },
  {
   "cell_type": "code",
   "execution_count": 4,
   "metadata": {},
   "outputs": [],
   "source": [
    "def STARS(x_init,F, mu_star,h):\n",
    "    \n",
    "    # x_init: initial x value\n",
    "    # F: function we wish to minimize\n",
    "    # mu_star: smoothing parameter\n",
    "    # h: step length\n",
    "    \n",
    "    # Evaluate noisy F(x_init)\n",
    "    f = F(x_init)\n",
    "    \n",
    "    # Draw a random vector of same size as x_init\n",
    "    u = np.random.normal(0,1,(N,1))\n",
    "    \n",
    "    # Form vector y, which is a random walk away from x_init\n",
    "    y = x_init + (mu_star)*u\n",
    "    \n",
    "    # Evaluate noisy F(y)\n",
    "    g = F(y)\n",
    "    \n",
    "    # Form finite-difference \"gradient oracle\"\n",
    "    s = ((g - f)/mu_star)*u \n",
    "    \n",
    "    # Take descent step in direction of -s smooth by h to get next iterate, x_1\n",
    "    x = x_init - (h)*s\n",
    "   \n",
    "    # Evaluate noisy F(x_1)\n",
    "    f=F(x)\n",
    "    \n",
    "        \n",
    "    return [x, f, y, g]"
   ]
  },
  {
   "cell_type": "markdown",
   "metadata": {},
   "source": [
    "## STARSRV"
   ]
  },
  {
   "cell_type": "code",
   "execution_count": 5,
   "metadata": {},
   "outputs": [],
   "source": [
    "def STARSRV(x_init,F,u,k,mu_star,h):\n",
    "    \n",
    "    # x_init: initial x value\n",
    "    # F: function we wish to minimize\n",
    "    # u: Choice of random vector; probably comes from active subspace\n",
    "    # note that lower f's are evaluations of F(*)\n",
    "    # k: noise parameter\n",
    "    # mu_star: smoothing parameter\n",
    "    # h: step length\n",
    "    \n",
    "\n",
    "    \n",
    "    # Evaluate noisy F(x_init)\n",
    "    f = F(x_init) + k*(2*np.random.rand(1)-1)\n",
    "    \n",
    "    \n",
    "    # Form vector y, which is a random walk away from x_init\n",
    "    # in the direction of u, which the user defines\n",
    "    sclr=np.random.normal(0,1)\n",
    "    u=sclr*u\n",
    "    y = x_init + (mu_star)*u\n",
    "    \n",
    "    # Evaluate noisy F(y)\n",
    "    g = F(y) + k*(2*np.random.rand(1) -1)\n",
    "    \n",
    "    # Form finite-difference \"gradient oracle\"\n",
    "    s = ((g - f)/mu_star)*u \n",
    "    \n",
    "    # Take descent step in direction of -s smooth by h to get next iterate, x_1\n",
    "    x = x_init - (h)*s\n",
    "   \n",
    "    # Evaluate noisy F(x_1)\n",
    "    f=F(x) + k*(2*np.random.rand(1) -1)\n",
    "    \n",
    "        \n",
    "    return [x, f, y, g]"
   ]
  },
  {
   "cell_type": "markdown",
   "metadata": {},
   "source": [
    "## Active Subspace Learning"
   ]
  },
  {
   "cell_type": "code",
   "execution_count": 6,
   "metadata": {},
   "outputs": [],
   "source": [
    "def ACT(x_hist, f_hist):\n",
    "    \n",
    "    # x_hist: history of x values - x's are transposed and stored as rows in array x_hist\n",
    "    # f_hist: history of f values - f's are real-valued an stored as rows in a column vector f_hist\n",
    "    \n",
    "    # Compute AS using function values stored in f_hist\n",
    "    \n",
    "    # Instantiate a subspace object\n",
    "    ss = ac.subspaces.Subspaces()\n",
    "\n",
    "    # Use Local Linears\n",
    "    df = ac.gradients.local_linear_gradients(x_hist, f_hist) #Estimated gradients using local linear models\n",
    "    ss.compute(df=df, nboot=0)\n",
    "    \n",
    "    # Use Global Quadratic\n",
    "    # ss.compute(X=x_hist, f=f_hist, nboot=0, sstype='QPHD')\n",
    "    \n",
    "    ac.utils.plotters.eigenvalues(ss.eigenvals, ss.e_br)\n",
    "    ac.utils.plotters.sufficient_summary(x_hist.dot(ss.W1), f_hist)\n",
    "\n",
    "    return [ss.eigenvecs, ss.eigenvals]"
   ]
  },
  {
   "cell_type": "markdown",
   "metadata": {},
   "source": [
    "## Example 1. Noisy sphere function.\n",
    "\n",
    "\n",
    "Let $f: R^N \\to R$ equal the sphere function with additive noise; i.e., $$f(x; \\xi)=\\sum_{i=1}^N x_i^2 + \\epsilon (\\xi),$$ where $\\epsilon \\sim U[-k,k]$ is stoachastic additive noise with zero mean and bounded variance $k^2/3$. Then we have $\\nabla f(x)=2x$ and one can show that $L_1^*=2$. This means that the value of $||\\nabla f(x) -\\nabla f(y)||$ will never be larger than twice the value of $2||x-y||$ which is obvious because $||\\nabla f(x) -\\nabla f(y)||$ literally equals $2||x-y||$."
   ]
  },
  {
   "cell_type": "code",
   "execution_count": 7,
   "metadata": {},
   "outputs": [
    {
     "name": "stdout",
     "output_type": "stream",
     "text": [
      "Noisy sphere function evaluated at x_test is 8.003268091019203 and the error-free value is 8\n"
     ]
    }
   ],
   "source": [
    "# Define sphere function with additive noise\n",
    "\n",
    "# Noise level\n",
    "k=1e-2\n",
    "\n",
    "def sphere(x):\n",
    "    x=x**2\n",
    "    return (np.sum(x, axis=0) + k*(2*np.random.rand(1) - 1))[0]\n",
    "\n",
    "N=4 # this is the dimension of the inputs!\n",
    "\n",
    "x_test=np.sqrt(2)*np.ones(N)\n",
    "\n",
    "print('Noisy sphere function evaluated at x_test is', sphere(x_test), 'and the error-free value is', 2*N)"
   ]
  },
  {
   "cell_type": "markdown",
   "metadata": {},
   "source": [
    "### Call ECNoise and estimate noise variance"
   ]
  },
  {
   "cell_type": "code",
   "execution_count": 8,
   "metadata": {
    "scrolled": true
   },
   "outputs": [
    {
     "name": "stdout",
     "output_type": "stream",
     "text": [
      "3.664899768944619e-05\n"
     ]
    }
   ],
   "source": [
    "sphere_noise = ECNOISE(np.ones((N,1)), sphere, 6)\n",
    "est_var=sphere_noise[1]\n",
    "\n",
    "print(est_var)"
   ]
  },
  {
   "cell_type": "markdown",
   "metadata": {},
   "source": [
    "### Learn L_1"
   ]
  },
  {
   "cell_type": "code",
   "execution_count": 9,
   "metadata": {},
   "outputs": [
    {
     "name": "stdout",
     "output_type": "stream",
     "text": [
      "2.0000256274576707\n"
     ]
    }
   ],
   "source": [
    "sphere_lips = LIPS(sphere, 6, N, est_var)\n",
    "L_1_est = sphere_lips[0]\n",
    "\n",
    "print(L_1_est)"
   ]
  },
  {
   "cell_type": "markdown",
   "metadata": {},
   "source": [
    "### Perform STARS (full variables)"
   ]
  },
  {
   "cell_type": "code",
   "execution_count": 10,
   "metadata": {},
   "outputs": [
    {
     "name": "stdout",
     "output_type": "stream",
     "text": [
      "0.023269402922131158 0.01562479978805241\n"
     ]
    }
   ],
   "source": [
    "# STARS optimal hyperparameters\n",
    "\n",
    "mu_star=((8*est_var*N)/(L_1_est**2*(N+6)**3))**0.25\n",
    "h=1/(4*L_1_est*(N+4))\n",
    "\n",
    "print(mu_star,h)"
   ]
  },
  {
   "cell_type": "code",
   "execution_count": 11,
   "metadata": {},
   "outputs": [
    {
     "name": "stdout",
     "output_type": "stream",
     "text": [
      "(4, 1) 6815.92814148747\n"
     ]
    }
   ],
   "source": [
    "x_init=100*(2*np.random.rand(N,1)-np.ones((N,1)))\n",
    "\n",
    "print(np.shape(x_init),sphere(x_init))"
   ]
  },
  {
   "cell_type": "code",
   "execution_count": 12,
   "metadata": {},
   "outputs": [
    {
     "name": "stdout",
     "output_type": "stream",
     "text": [
      "0.1372696761048477 0.009128693127923169\n"
     ]
    }
   ],
   "source": [
    "# Run pure STARs\n",
    "\n",
    "x=x_init\n",
    "f=sphere(x)\n",
    "\n",
    "x_hist=np.array(x)\n",
    "f_hist=np.array(f)\n",
    "\n",
    "maxit=200\n",
    "\n",
    "for i in range(1, maxit):\n",
    "    s=STARS(x,sphere,mu_star,h)\n",
    "    x=s[0]\n",
    "    f=s[1]\n",
    "    x_hist=np.hstack((x_hist,x))\n",
    "    f_hist=np.hstack((f_hist,f))\n",
    "    \n",
    "print(np.linalg.norm(x),f)"
   ]
  },
  {
   "cell_type": "code",
   "execution_count": 13,
   "metadata": {},
   "outputs": [
    {
     "data": {
      "image/png": "[encoded data removed]",
      "text/plain": [
       "<Figure size 432x288 with 1 Axes>"
      ]
     },
     "metadata": {},
     "output_type": "display_data"
    }
   ],
   "source": [
    "plt.loglog(f_hist)\n",
    "plt.show()"
   ]
  },
  {
   "cell_type": "markdown",
   "metadata": {},
   "source": [
    "## Example 2. Noisy \"ellipsoid\" function"
   ]
  },
  {
   "cell_type": "code",
   "execution_count": 14,
   "metadata": {},
   "outputs": [
    {
     "name": "stdout",
     "output_type": "stream",
     "text": [
      "Noisy sphere function evaluated at x_test is 2046.005240720111\n"
     ]
    }
   ],
   "source": [
    "# Define sphere function with additive noise\n",
    "\n",
    "# Noise level\n",
    "k=1e-2\n",
    "\n",
    "N=10 # this is the dimension of the inputs!\n",
    "\n",
    "# Define a matrix for quadratic form\n",
    "A=np.eye(N)\n",
    "\n",
    "for i in range(0,N):\n",
    "    A[i,i]=2**i\n",
    "\n",
    "def ellip(x):\n",
    "    y=A@x\n",
    "    val=np.transpose(x)@y\n",
    "    return  (val + k*(2*np.random.rand(1) - 1))[0]\n",
    "\n",
    "x_test=np.sqrt(2)*np.ones(N)\n",
    "\n",
    "print('Noisy sphere function evaluated at x_test is', ellip(x_test))"
   ]
  },
  {
   "cell_type": "markdown",
   "metadata": {},
   "source": [
    "### Call ECNoise and estimate noise variance"
   ]
  },
  {
   "cell_type": "code",
   "execution_count": 15,
   "metadata": {},
   "outputs": [
    {
     "name": "stdout",
     "output_type": "stream",
     "text": [
      "8.92783054693603e-06\n"
     ]
    }
   ],
   "source": [
    "ellip_noise = ECNOISE(np.ones((N,1)), ellip, 6)\n",
    "est_var=ellip_noise[1]\n",
    "\n",
    "print(est_var)"
   ]
  },
  {
   "cell_type": "markdown",
   "metadata": {},
   "source": [
    "### Learn L_1"
   ]
  },
  {
   "cell_type": "code",
   "execution_count": 16,
   "metadata": {},
   "outputs": [
    {
     "name": "stdout",
     "output_type": "stream",
     "text": [
      "523.9540135041899\n"
     ]
    }
   ],
   "source": [
    "ellip_lips = LIPS(ellip, 10, N, est_var)\n",
    "L_1_est = ellip_lips[0]\n",
    "\n",
    "print(L_1_est)"
   ]
  },
  {
   "cell_type": "markdown",
   "metadata": {},
   "source": [
    "### Perform STARS (full variables)"
   ]
  },
  {
   "cell_type": "code",
   "execution_count": 17,
   "metadata": {},
   "outputs": [
    {
     "name": "stdout",
     "output_type": "stream",
     "text": [
      "0.0008927346853369274 3.408150791271696e-05\n"
     ]
    }
   ],
   "source": [
    "# STARS optimal hyperparameters\n",
    "\n",
    "mu_star=((8*est_var*N)/(L_1_est**2*(N+6)**3))**0.25\n",
    "h=1/(4*L_1_est*(N+4))\n",
    "\n",
    "print(mu_star,h)"
   ]
  },
  {
   "cell_type": "code",
   "execution_count": 18,
   "metadata": {},
   "outputs": [
    {
     "name": "stdout",
     "output_type": "stream",
     "text": [
      "(10, 1) [2339397.37277331]\n"
     ]
    }
   ],
   "source": [
    "x_init=100*(2*np.random.rand(N,1)-np.ones((N,1)))\n",
    "\n",
    "print(np.shape(x_init), ellip(x_init))"
   ]
  },
  {
   "cell_type": "code",
   "execution_count": 19,
   "metadata": {},
   "outputs": [
    {
     "name": "stdout",
     "output_type": "stream",
     "text": [
      "3.2181969495436364 [17.21376951]\n"
     ]
    }
   ],
   "source": [
    "# Run pure STARs\n",
    "\n",
    "x=x_init\n",
    "f=ellip(x)\n",
    "\n",
    "x_hist=np.array(x)\n",
    "f_hist=np.array(f)\n",
    "\n",
    "maxit=10000\n",
    "\n",
    "for i in range(1, maxit):\n",
    "    s=STARS(x,ellip,mu_star,h)\n",
    "    x=s[0]\n",
    "    f=s[1]\n",
    "    x_hist=np.hstack((x_hist,x))\n",
    "    f_hist=np.hstack((f_hist,f))\n",
    "    \n",
    "print(np.linalg.norm(x),f)"
   ]
  },
  {
   "cell_type": "code",
   "execution_count": 20,
   "metadata": {},
   "outputs": [
    {
     "data": {
      "image/png": "[encoded data removed]",
      "text/plain": [
       "<Figure size 432x288 with 1 Axes>"
      ]
     },
     "metadata": {},
     "output_type": "display_data"
    }
   ],
   "source": [
    "plt.loglog(f_hist)\n",
    "plt.show()"
   ]
  },
  {
   "cell_type": "code",
   "execution_count": 21,
   "metadata": {},
   "outputs": [
    {
     "name": "stdout",
     "output_type": "stream",
     "text": [
      "n should be an integer. Performing conversion.\n"
     ]
    },
    {
     "data": {
      "image/png": "[encoded data removed]",
      "text/plain": [
       "<Figure size 504x504 with 1 Axes>"
      ]
     },
     "metadata": {},
     "output_type": "display_data"
    },
    {
     "data": {
      "image/png": "[encoded data removed]",
      "text/plain": [
       "<Figure size 504x504 with 1 Axes>"
      ]
     },
     "metadata": {},
     "output_type": "display_data"
    },
    {
     "data": {
      "text/plain": [
       "[array([[ 3.66838007e-02,  1.69541693e-01,  4.48127174e-01,\n",
       "          1.20668329e-03,  1.92391686e-01,  6.56758341e-01,\n",
       "          2.11605873e-01,  2.22589253e-01,  3.93725000e-01,\n",
       "          2.26720131e-01],\n",
       "        [-7.36519443e-02, -1.56693834e-01, -4.72098208e-01,\n",
       "         -6.76340899e-02,  1.70929461e-01,  3.23585117e-01,\n",
       "         -7.66835625e-02, -1.38596396e-01, -2.97097808e-01,\n",
       "          7.03768924e-01],\n",
       "        [-2.16250317e-02,  2.53636596e-01,  2.13077176e-01,\n",
       "          2.41955993e-01, -4.77476348e-01, -4.10041743e-01,\n",
       "         -5.50214813e-03, -3.18124240e-02,  2.32862891e-01,\n",
       "          6.16336698e-01],\n",
       "        [-7.53444295e-02, -1.57102693e-01, -5.06746229e-01,\n",
       "          1.68512185e-01,  1.31135909e-01, -5.46909403e-02,\n",
       "         -2.33888789e-01,  1.10057839e-01,  7.71228265e-01,\n",
       "         -5.15403549e-02],\n",
       "        [ 9.97923286e-02,  1.60490600e-01,  5.87630093e-02,\n",
       "         -4.56852151e-01,  3.41002566e-02,  1.82107065e-02,\n",
       "         -1.39946235e-02, -8.16966611e-01,  2.87642415e-01,\n",
       "         -1.59489685e-02],\n",
       "        [-2.41342766e-01, -4.67624755e-01,  3.99676356e-01,\n",
       "          5.44305394e-01,  2.53407739e-01,  2.80172645e-04,\n",
       "         -2.18405975e-01, -3.92592316e-01, -2.73134621e-02,\n",
       "          1.67249580e-02],\n",
       "        [ 5.73805662e-01,  4.52162570e-01, -1.17430725e-01,\n",
       "          4.53263742e-01,  3.49821521e-02,  2.05723336e-01,\n",
       "         -3.98840913e-01, -1.33245483e-01, -1.28105765e-01,\n",
       "         -1.01354408e-01],\n",
       "        [-6.77010047e-01,  3.96960630e-01,  4.08407468e-02,\n",
       "         -1.15694419e-01, -1.29112982e-01,  1.87967140e-01,\n",
       "         -5.46007409e-01,  4.59990475e-02, -7.69939464e-02,\n",
       "         -1.04195062e-01],\n",
       "        [-2.33934974e-01,  2.19683007e-02, -2.82140328e-01,\n",
       "          3.63021369e-01, -5.07087569e-01,  3.64065731e-01,\n",
       "          4.73572691e-01, -2.65899857e-01, -4.23072114e-03,\n",
       "         -2.20750437e-01],\n",
       "        [ 2.76693535e-01, -5.00747836e-01,  1.25921830e-01,\n",
       "         -2.29967675e-01, -5.90066304e-01,  2.86891132e-01,\n",
       "         -4.06499777e-01,  7.73571556e-02,  4.30594512e-02,\n",
       "         -1.96411204e-02]]), array([[4.57760727e+06],\n",
       "        [4.95867504e+05],\n",
       "        [1.51152254e+05],\n",
       "        [2.18371077e+04],\n",
       "        [1.18868305e+04],\n",
       "        [5.71973815e+03],\n",
       "        [3.47133425e+03],\n",
       "        [1.73739876e+03],\n",
       "        [1.01584057e+03],\n",
       "        [2.56920086e+02]])]"
      ]
     },
     "execution_count": 21,
     "metadata": {},
     "output_type": "execute_result"
    }
   ],
   "source": [
    "ACT(np.transpose(x_hist),f_hist)"
   ]
  }
 ],
 "metadata": {
  "kernelspec": {
   "display_name": "Python 3",
   "language": "python",
   "name": "python3"
  },
  "language_info": {
   "codemirror_mode": {
    "name": "ipython",
    "version": 3
   },
   "file_extension": ".py",
   "mimetype": "text/x-python",
   "name": "python",
   "nbconvert_exporter": "python",
   "pygments_lexer": "ipython3",
   "version": "3.6.5"
  }
 },
 "nbformat": 4,
 "nbformat_minor": 2
}
