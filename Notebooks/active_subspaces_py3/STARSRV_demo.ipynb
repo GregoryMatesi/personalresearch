{
 "cells": [
  {
   "cell_type": "code",
   "execution_count": 235,
   "metadata": {},
   "outputs": [],
   "source": [
    "%matplotlib inline\n",
    "import active_subspaces as ac\n",
    "import numpy as np\n",
    "import matplotlib.pyplot as plt"
   ]
  },
  {
   "cell_type": "markdown",
   "metadata": {},
   "source": [
    "## Noise Variance Learning"
   ]
  },
  {
   "cell_type": "code",
   "execution_count": 236,
   "metadata": {},
   "outputs": [],
   "source": [
    "def ECNOISE(x_b, F, M, N):\n",
    "\n",
    "    # x_b: a base point in domain; must be a column vector\n",
    "    # F: function with noise we wish to estimate\n",
    "    # M: number of points sampled along a curve; must have M>/2\n",
    "    # N: dimension of domain of f\n",
    "    \n",
    "    # Throw an error for not sampling enough points\n",
    "    if M<2:\n",
    "        return print('Please select M=2 or larger.')\n",
    "    \n",
    "    # Initialize storage for difference table\n",
    "    T = np.zeros((M,M))\n",
    "    \n",
    "    # We pick a direction to sample in, and normalize it:\n",
    "    p = np.ones((N,1))/np.sqrt(N)\n",
    "    \n",
    "    # Form difference table\n",
    "    for i in range(0,M):\n",
    "        T[i,0] = F(x_b + (i/M)*p)\n",
    "\n",
    "    for j in range(0,M-1):\n",
    "        for i in range(0,M-j-1):\n",
    "            T[i,j+1] = T[i+1,j] - T[i,j]\n",
    "            \n",
    "    # Make a row vector to store the k-level estimators (sigma_k^2) \n",
    "    S = np.zeros((1,M))\n",
    "    \n",
    "    # Build S according to paper; each k-th component of S is the k-th level estimator for the variance in our noise\n",
    "    # which is computed using a scaled average of the k-th level difference values, from the difference table T\n",
    "    for i in range(1,M):\n",
    "        S[0,i] = ((np.math.factorial(i)**2.)/np.math.factorial(2*i))*(1./(M-i))*np.sum(T[:,i]**2,axis=0)\n",
    "\n",
    "    S=S[:,1:] # Don't need the first column (because first col. of T just holds function values!)\n",
    "    \n",
    "    possible_estimator = np.sum(S[:,2:4], axis=1)/3\n",
    "    est_var = possible_estimator\n",
    "    \n",
    "    return [S, est_var[0]]"
   ]
  },
  {
   "cell_type": "markdown",
   "metadata": {},
   "source": [
    "## Lipschitz Constant Learning"
   ]
  },
  {
   "cell_type": "code",
   "execution_count": 238,
   "metadata": {},
   "outputs": [],
   "source": [
    "def LIPS(F, M, N, est_var):\n",
    "    \n",
    "    # F: noisy function we wish to obtain an estimate of L_! for\n",
    "    # M: number of times we wish to draw points and estimate L_1\n",
    "    # N: dimension of inputs\n",
    "    # est_var: the estimated variance of the noise in f\n",
    "    \n",
    "    # We need to estimate max ||f''|| roughly and cheaply\n",
    "    \n",
    "    # Constants we need\n",
    "    std=est_var**0.5\n",
    "    eps_star=3*std\n",
    "    \n",
    "    # Take a random draw\n",
    "    x_0=10*(2*np.random.rand(N,1) - np.ones((N,1)))\n",
    "\n",
    "    # Define an arbitrary unit vector\n",
    "    unit_v=np.ones((N,1))/(N**(1/N))\n",
    "    \n",
    "    # Step size\n",
    "    h=std**0.25\n",
    "\n",
    "    # Computes a centered finite difference to approximate f'' at x_0\n",
    "    F_m=F(x_0 - h*unit_v)\n",
    "    F_0=F(x_0)\n",
    "    F_p=F(x_0 + h*unit_v)\n",
    "    diff = abs(F_p - 2*F_0 + F_m)\n",
    "\n",
    "    # Our guess for ||f''||\n",
    "    mu_f2=diff/(N*h**2)\n",
    "    \n",
    "    # Now we will take draws and estimate L_1\n",
    "    \n",
    "    x_vals=np.zeros((N,1)) # matrix to store the vectors we randomly make\n",
    "    grads=np.zeros((N,1)) # matrix to store the gradients we approximate\n",
    "    ratios=np.zeros((M,1)) # vector storing the ratios we are intersted in!\n",
    "    h_star=(8**0.25)*np.sqrt(std/mu_f2) # the prescribed step size by Chen/More\n",
    "\n",
    "    for j in range(0,M):\n",
    "\n",
    "        # Take two draws inside a large hypercube and store them\n",
    "        x=100*(2*np.random.rand(N,1) - np.ones((N,1)))\n",
    "        y=100*(2*np.random.rand(N,1) - np.ones((N,1)))\n",
    "        x_vals=np.hstack((x_vals,x))\n",
    "        x_vals=np.hstack((x_vals,y))\n",
    "\n",
    "        # For loop to make finite diff approx's \n",
    "        # to each partial and form approx gradient at x\n",
    "        approx_grad_x=np.zeros((N,1))\n",
    "        for i in range(0,N):\n",
    "            e = np.zeros((N,1))\n",
    "            e[i] = 1.0\n",
    "            approx_grad_x[i] = (F(x + h_star*e) - F(x))/h_star\n",
    "    \n",
    "        # Store the gradient at x\n",
    "        grads=np.hstack((grads,approx_grad_x))\n",
    "    \n",
    "        # For loop to make finite diff approx's \n",
    "        # to each partial and form approx gradient at y\n",
    "        approx_grad_y=np.zeros((N,1))\n",
    "        for p in range(0,N):\n",
    "            e = np.zeros((N,1))\n",
    "            e[p] = 1.0\n",
    "            approx_grad_y[p] = (F(y + h_star*e) - F(y))/h_star\n",
    "    \n",
    "        # Store the gradient at y\n",
    "        grads=np.hstack((grads,approx_grad_y))\n",
    "    \n",
    "        # Form ratios to estimate L_1\n",
    "        # Note we subtract by 2*eps_star, which was mentioned in Callies paper\n",
    "        diff_1=np.linalg.norm(approx_grad_x - approx_grad_y) - 2*eps_star\n",
    "        diff_2=np.linalg.norm(x-y)\n",
    "        r=diff_1/diff_2\n",
    "        ratios[j]=r\n",
    "    \n",
    "    x_vals=x_vals[:,1:]\n",
    "    grads=grads[:,1:]\n",
    "    \n",
    "    # Take most pessimistic draw?\n",
    "    L_1_est=(np.max(ratios))\n",
    "\n",
    "    #print('the ratios are', np.transpose(ratios),'and our estimate to L_1 is', L_1_est)\n",
    "    return [L_1_est]\n",
    "    \n",
    "    \n",
    "    "
   ]
  },
  {
   "cell_type": "markdown",
   "metadata": {},
   "source": [
    "## STARS"
   ]
  },
  {
   "cell_type": "code",
   "execution_count": 239,
   "metadata": {},
   "outputs": [],
   "source": [
    "def STARS(x_init,F, mu_star,h):\n",
    "    \n",
    "    # x_init: initial x value\n",
    "    # F: function we wish to minimize\n",
    "    # mu_star: smoothing parameter\n",
    "    # h: step length\n",
    "    \n",
    "    # Evaluate noisy F(x_init)\n",
    "    f = F(x_init)\n",
    "    \n",
    "    # Draw a random vector of same size as x_init\n",
    "    u = np.random.normal(0,1,(N,1))\n",
    "    \n",
    "    # Form vector y, which is a random walk away from x_init\n",
    "    y = x_init + (mu_star)*u\n",
    "    \n",
    "    # Evaluate noisy F(y)\n",
    "    g = F(y)\n",
    "    \n",
    "    # Form finite-difference \"gradient oracle\"\n",
    "    s = ((g - f)/mu_star)*u \n",
    "    \n",
    "    # Take descent step in direction of -s smooth by h to get next iterate, x_1\n",
    "    x = x_init - (h)*s\n",
    "   \n",
    "    # Evaluate noisy F(x_1)\n",
    "    f=F(x)\n",
    "    \n",
    "        \n",
    "    return [x, f, y, g]"
   ]
  },
  {
   "cell_type": "markdown",
   "metadata": {},
   "source": [
    "## STARSRV"
   ]
  },
  {
   "cell_type": "code",
   "execution_count": 240,
   "metadata": {},
   "outputs": [],
   "source": [
    "def STARSRV(x_init,F,u ,mu_star,h):\n",
    "    \n",
    "    # x_init: initial x value\n",
    "    # F: function we wish to minimize\n",
    "    # u: Choice of random vector; probably comes from active subspace\n",
    "    # note that lower f's are evaluations of F(*)\n",
    "    # k: noise parameter\n",
    "    # mu_star: smoothing parameter\n",
    "    # h: step length\n",
    "    \n",
    "\n",
    "    \n",
    "    # Evaluate noisy F(x_init)\n",
    "    f = F(x_init)\n",
    "    \n",
    "    \n",
    "    # Form vector y, which is a random walk away from x_init\n",
    "    # in the direction of u, which the user defines\n",
    "    sclr=np.random.normal(0,1)\n",
    "    u=sclr*u\n",
    "    y = x_init + (mu_star)*u\n",
    "    \n",
    "    # Evaluate noisy F(y)\n",
    "    g = F(y)\n",
    "    \n",
    "    # Form finite-difference \"gradient oracle\"\n",
    "    s = ((g - f)/mu_star)*u \n",
    "    \n",
    "    # Take descent step in direction of -s smooth by h to get next iterate, x_1\n",
    "    x = x_init - (h)*s\n",
    "   \n",
    "    # Evaluate noisy F(x_1)\n",
    "    f=F(x)\n",
    "    \n",
    "        \n",
    "    return [x, f, y, g]"
   ]
  },
  {
   "cell_type": "markdown",
   "metadata": {},
   "source": [
    "## Active Subspace Learning"
   ]
  },
  {
   "cell_type": "code",
   "execution_count": 303,
   "metadata": {},
   "outputs": [],
   "source": [
    "def ACT(x_hist, f_hist):\n",
    "    \n",
    "    # x_hist: history of x values - x's are transposed and stored as rows in array x_hist\n",
    "    # f_hist: history of f values - f's are real-valued an stored as rows in a column vector f_hist\n",
    "    \n",
    "    # Compute AS using function values stored in f_hist\n",
    "    \n",
    "    # Instantiate a subspace object\n",
    "    ss = ac.subspaces.Subspaces()\n",
    "\n",
    "    # Use Local Linears\n",
    "    # df = ac.gradients.local_linear_gradients(x_hist, f_hist) #Estimated gradients using local linear models\n",
    "    # ss.compute(df=df, nboot=0)\n",
    "    \n",
    "    # Use Global Quadratic\n",
    "    ss.compute(X=x_hist, f=f_hist, nboot=0, sstype='QPHD')\n",
    "    \n",
    "    ac.utils.plotters.eigenvalues(ss.eigenvals, ss.e_br)\n",
    "    ac.utils.plotters.sufficient_summary(x_hist.dot(ss.W1), f_hist)\n",
    "\n",
    "    return [ss.eigenvecs[0], ss.eigenvals[0]]"
   ]
  },
  {
   "cell_type": "markdown",
   "metadata": {},
   "source": [
    "## Example 1. Noisy 1 dimensionally active function.\n",
    "\n",
    "\n",
    "Let $f: R^N \\to R$ with additive noise, $$f(x; \\xi)=x_i^2 + \\epsilon (\\xi),$$ where $\\epsilon \\sim U[-k,k]$ is stoachastic additive noise with zero mean and bounded variance $k^2/3$. Then we have $\\nabla f(x)=2(0,\\ldots,0,x_i,0,\\ldots,0)$ and one can show that $L_1^*=2$. This means that the value of $||\\nabla f(x) -\\nabla f(y)||$ will never be larger than twice the value of $2||x-y||$. Note $f$ has a one-dimensional active subspace given by span$(e_i)$ where $e_i$ is the $i$-th standard basis vector."
   ]
  },
  {
   "cell_type": "code",
   "execution_count": 304,
   "metadata": {},
   "outputs": [
    {
     "name": "stdout",
     "output_type": "stream",
     "text": [
      "Noisy function evaluated at x_test is 16.000316307343127 and the error-free value is 16.0\n"
     ]
    }
   ],
   "source": [
    "N=40 # this is the dimension of the inputs!\n",
    "\n",
    "# Noise level\n",
    "k=1e-3\n",
    "\n",
    "# Pick an index i: 0 <= i <= N\n",
    "ind=20\n",
    "\n",
    "def act1(x):\n",
    "    return (x[ind]**2 + k*(2*np.random.rand(1) - 1))[0]\n",
    "\n",
    "x_test=np.ones(N)\n",
    "x_test[ind]=4\n",
    "\n",
    "print('Noisy function evaluated at x_test is', act1(x_test), 'and the error-free value is', x_test[ind]**2)"
   ]
  },
  {
   "cell_type": "markdown",
   "metadata": {},
   "source": [
    "### Call ECNoise and estimate noise variance"
   ]
  },
  {
   "cell_type": "code",
   "execution_count": 305,
   "metadata": {
    "scrolled": true
   },
   "outputs": [
    {
     "name": "stdout",
     "output_type": "stream",
     "text": [
      "2.9837985435626375e-07\n"
     ]
    }
   ],
   "source": [
    "sphere_noise = ECNOISE(np.ones((N,1)), act1, 6, N)\n",
    "est_var1=sphere_noise[1]\n",
    "\n",
    "print(est_var1)"
   ]
  },
  {
   "cell_type": "markdown",
   "metadata": {},
   "source": [
    "### Learn L_1"
   ]
  },
  {
   "cell_type": "code",
   "execution_count": 306,
   "metadata": {},
   "outputs": [
    {
     "name": "stdout",
     "output_type": "stream",
     "text": [
      "0.5957463589486144\n"
     ]
    }
   ],
   "source": [
    "act1_lips = LIPS(act1, 6, N, est_var1)\n",
    "L_1_est1 = act1_lips[0]\n",
    "\n",
    "print(L_1_est1)"
   ]
  },
  {
   "cell_type": "markdown",
   "metadata": {},
   "source": [
    "### Perform STARS (full variables)"
   ]
  },
  {
   "cell_type": "code",
   "execution_count": 307,
   "metadata": {},
   "outputs": [
    {
     "name": "stdout",
     "output_type": "stream",
     "text": [
      "0.007250714365269812 0.009537310797577636\n"
     ]
    }
   ],
   "source": [
    "# STARS optimal hyperparameters\n",
    "\n",
    "mu_star1=((8*est_var1*N)/(L_1_est1**2*(N+6)**3))**0.25\n",
    "h1=1/(4*L_1_est1*(N+4))\n",
    "\n",
    "print(mu_star1,h1)"
   ]
  },
  {
   "cell_type": "code",
   "execution_count": 308,
   "metadata": {},
   "outputs": [
    {
     "name": "stdout",
     "output_type": "stream",
     "text": [
      "(40, 1) 9161.455317018323\n"
     ]
    }
   ],
   "source": [
    "x_init1=100*(2*np.random.rand(N,1) - np.ones((N,1)))\n",
    "\n",
    "print(np.shape(x_init1),act1(x_init1))"
   ]
  },
  {
   "cell_type": "code",
   "execution_count": 332,
   "metadata": {},
   "outputs": [
    {
     "name": "stdout",
     "output_type": "stream",
     "text": [
      "353.1358066616329 566.482459826882\n"
     ]
    }
   ],
   "source": [
    "# Run pure STARs\n",
    "\n",
    "x=x_init1\n",
    "f=act1(x)\n",
    "\n",
    "x_hist=np.array(x)\n",
    "f_hist1=np.array(f)\n",
    "\n",
    "maxit=75\n",
    "\n",
    "for i in range(1, maxit):\n",
    "    s=STARS(x,act1,mu_star1,h1)\n",
    "    x=s[0]\n",
    "    f=s[1]\n",
    "    x_hist=np.hstack((x_hist,x))\n",
    "    f_hist1=np.vstack((f_hist1,f))\n",
    "    \n",
    "print(np.linalg.norm(x),f)"
   ]
  },
  {
   "cell_type": "code",
   "execution_count": 333,
   "metadata": {},
   "outputs": [
    {
     "data": {
      "image/png": "[encoded data removed]",
      "text/plain": [
       "<Figure size 432x288 with 1 Axes>"
      ]
     },
     "metadata": {},
     "output_type": "display_data"
    }
   ],
   "source": [
    "plt.loglog(f_hist1)\n",
    "plt.show()"
   ]
  },
  {
   "cell_type": "markdown",
   "metadata": {},
   "source": [
    "## Example 2. Our previous function, but from $\\mathbb{R}$ to $\\mathbb{R}$"
   ]
  },
  {
   "cell_type": "code",
   "execution_count": 311,
   "metadata": {},
   "outputs": [
    {
     "name": "stdout",
     "output_type": "stream",
     "text": [
      "Noisy function evaluated at x_test is 81.00052122002845\n"
     ]
    }
   ],
   "source": [
    "# Noise level\n",
    "k=1e-3\n",
    "\n",
    "def act2(x):\n",
    "    return(x[0]**2 + k*(2*np.random.rand(1) - 1))[0]\n",
    "\n",
    "x_test=[9]\n",
    "\n",
    "print('Noisy function evaluated at x_test is', act2(x_test))"
   ]
  },
  {
   "cell_type": "markdown",
   "metadata": {},
   "source": [
    "### Call ECNoise and estimate noise variance"
   ]
  },
  {
   "cell_type": "code",
   "execution_count": 312,
   "metadata": {},
   "outputs": [
    {
     "name": "stdout",
     "output_type": "stream",
     "text": [
      "2.922608148014149e-08\n"
     ]
    }
   ],
   "source": [
    "ellip_noise = ECNOISE([1], act2, 6, 1)\n",
    "est_var2=ellip_noise[1]\n",
    "\n",
    "print(est_var2)"
   ]
  },
  {
   "cell_type": "markdown",
   "metadata": {},
   "source": [
    "### Learn L_1"
   ]
  },
  {
   "cell_type": "code",
   "execution_count": 313,
   "metadata": {},
   "outputs": [
    {
     "name": "stdout",
     "output_type": "stream",
     "text": [
      "2.0028959307038496\n"
     ]
    }
   ],
   "source": [
    "ellip_act2 = LIPS(act2, 10, 1, est_var2)\n",
    "L_1_est2 = ellip_act2[0]\n",
    "\n",
    "print(L_1_est2)"
   ]
  },
  {
   "cell_type": "markdown",
   "metadata": {},
   "source": [
    "### Perform STARS (full variables)"
   ]
  },
  {
   "cell_type": "code",
   "execution_count": 314,
   "metadata": {},
   "outputs": [
    {
     "name": "stdout",
     "output_type": "stream",
     "text": [
      "0.003610459039651285 0.024963853205507886\n"
     ]
    }
   ],
   "source": [
    "# STARS optimal hyperparameters\n",
    "\n",
    "mu_star2=((8*est_var2*1)/(L_1_est2**2*(1+6)**3))**0.25\n",
    "h2=1/(4*L_1_est2*(1+4))\n",
    "\n",
    "print(mu_star2,h2)"
   ]
  },
  {
   "cell_type": "code",
   "execution_count": 315,
   "metadata": {},
   "outputs": [
    {
     "name": "stdout",
     "output_type": "stream",
     "text": [
      "9161.455634714372\n"
     ]
    }
   ],
   "source": [
    "x_init2=[np.sqrt(act1(x_init1))]\n",
    "\n",
    "print(act2(x_init2))"
   ]
  },
  {
   "cell_type": "code",
   "execution_count": 316,
   "metadata": {},
   "outputs": [
    {
     "name": "stdout",
     "output_type": "stream",
     "text": [
      "580.3836729971467 5.237996574752497\n"
     ]
    }
   ],
   "source": [
    "# Run pure STARs\n",
    "\n",
    "x=x_init2\n",
    "f=act2(x)\n",
    "\n",
    "x_hist=np.array(x)\n",
    "f_hist2=np.array(f)\n",
    "\n",
    "maxit=75\n",
    "\n",
    "for i in range(1, maxit):\n",
    "    s=STARS(x,act2,mu_star2,h2)\n",
    "    x=s[0]\n",
    "    f=s[1]\n",
    "    x_hist=np.vstack((x_hist,x))\n",
    "    f_hist2=np.hstack((f_hist2,f))\n",
    "    \n",
    "print(np.linalg.norm(x),f)"
   ]
  },
  {
   "cell_type": "code",
   "execution_count": 317,
   "metadata": {},
   "outputs": [
    {
     "data": {
      "image/png": "[encoded data removed]",
      "text/plain": [
       "<Figure size 432x288 with 1 Axes>"
      ]
     },
     "metadata": {},
     "output_type": "display_data"
    }
   ],
   "source": [
    "plt.loglog(f_hist1)\n",
    "plt.loglog(f_hist2)\n",
    "plt.show()"
   ]
  },
  {
   "cell_type": "markdown",
   "metadata": {},
   "source": [
    "## Example 3: Use STARSRV on Example 1 function"
   ]
  },
  {
   "cell_type": "code",
   "execution_count": 318,
   "metadata": {},
   "outputs": [
    {
     "name": "stdout",
     "output_type": "stream",
     "text": [
      "362.7763009447609 1180.2163207758963\n"
     ]
    }
   ],
   "source": [
    "# Run STARSRV\n",
    "\n",
    "x=x_init1\n",
    "f=act1(x)\n",
    "\n",
    "x_hist=np.array(x)\n",
    "f_hist3=np.array(f)\n",
    "\n",
    "# Let's choose the direction we know f is active in\n",
    "u=np.zeros((N,1))\n",
    "u[ind]=1\n",
    "\n",
    "maxit=75\n",
    "\n",
    "for i in range(1, maxit):\n",
    "    s=STARSRV(x, act1, u, mu_star1, h1)\n",
    "    x=s[0]\n",
    "    f=s[1]\n",
    "    x_hist=np.hstack((x_hist,x))\n",
    "    f_hist3=np.vstack((f_hist3,f))\n",
    "    \n",
    "print(np.linalg.norm(x),f)"
   ]
  },
  {
   "cell_type": "code",
   "execution_count": 319,
   "metadata": {},
   "outputs": [
    {
     "data": {
      "image/png": "[encoded data removed]",
      "text/plain": [
       "<Figure size 432x288 with 1 Axes>"
      ]
     },
     "metadata": {},
     "output_type": "display_data"
    }
   ],
   "source": [
    "plt.loglog(f_hist1)\n",
    "plt.loglog(f_hist2)\n",
    "plt.loglog(f_hist3)\n",
    "plt.show()"
   ]
  },
  {
   "cell_type": "markdown",
   "metadata": {},
   "source": [
    "## Example 4: Try to Learn Active Subspace of Example 1 function"
   ]
  },
  {
   "cell_type": "code",
   "execution_count": 320,
   "metadata": {},
   "outputs": [],
   "source": [
    "x_0=100*(2*np.random.rand(N,1) - np.ones((N,1)))\n",
    "x_hista=np.array(x_0)\n",
    "f_hista=np.array(act1(x_0))\n",
    "for i in range(1,1000):\n",
    "    x=100*(2*np.random.rand(N,1) - np.ones((N,1)))\n",
    "    x_hista=np.hstack((x_hista, x))\n",
    "    f_hista=np.vstack((f_hista, act1(x)))"
   ]
  },
  {
   "cell_type": "code",
   "execution_count": 321,
   "metadata": {},
   "outputs": [
    {
     "name": "stdout",
     "output_type": "stream",
     "text": [
      "n should be an integer. Performing conversion.\n"
     ]
    },
    {
     "data": {
      "image/png": "[encoded data removed]",
      "text/plain": [
       "<Figure size 504x504 with 1 Axes>"
      ]
     },
     "metadata": {},
     "output_type": "display_data"
    },
    {
     "data": {
      "image/png": "[encoded data removed]",
      "text/plain": [
       "<Figure size 504x504 with 1 Axes>"
      ]
     },
     "metadata": {},
     "output_type": "display_data"
    },
    {
     "name": "stdout",
     "output_type": "stream",
     "text": [
      "[array([2.26765225e-09, 5.04367571e-02, 2.46164105e-01, 1.17812492e-02,\n",
      "       1.06003874e-01, 6.82979577e-02, 8.18445564e-02, 7.13246075e-02,\n",
      "       1.28758809e-01, 1.71148601e-01, 0.00000000e+00, 1.66947890e-01,\n",
      "       0.00000000e+00, 0.00000000e+00, 0.00000000e+00, 1.53450023e-01,\n",
      "       0.00000000e+00, 0.00000000e+00, 2.27324907e-01, 0.00000000e+00,\n",
      "       3.60248286e-01, 2.61484217e-01, 0.00000000e+00, 0.00000000e+00,\n",
      "       1.61303566e-01, 0.00000000e+00, 0.00000000e+00, 0.00000000e+00,\n",
      "       2.30115964e-01, 0.00000000e+00, 0.00000000e+00, 0.00000000e+00,\n",
      "       0.00000000e+00, 5.45899559e-01, 0.00000000e+00, 0.00000000e+00,\n",
      "       4.24515422e-01, 6.87234824e-02, 0.00000000e+00, 0.00000000e+00]), array([3.99999994])] the ind-th component of the first eigenvector is 0.3602482858692981 but the largest component in that vector is 33\n"
     ]
    }
   ],
   "source": [
    "ans=ACT(np.transpose(x_hista), f_hista)\n",
    "\n",
    "print(ans, 'the ind-th component of the first eigenvector is', ans[0][ind], 'but the largest component in that vector is', np.argmax(ans[0]))"
   ]
  },
  {
   "cell_type": "code",
   "execution_count": 322,
   "metadata": {},
   "outputs": [
    {
     "name": "stdout",
     "output_type": "stream",
     "text": [
      "2362.94778733313 9161.454574772351\n"
     ]
    }
   ],
   "source": [
    "# Run STARSRV\n",
    "\n",
    "x=x_init1\n",
    "f=act1(x)\n",
    "\n",
    "x_hist=np.array(x)\n",
    "f_hist4=np.array(f)\n",
    "\n",
    "# Let's choose the direction of the first eigenvector, above\n",
    "u=ans[0]\n",
    "\n",
    "maxit=75\n",
    "\n",
    "for i in range(1, maxit):\n",
    "    s=STARSRV(x, act1, u, mu_star2, h2)\n",
    "    x=s[0]\n",
    "    f=s[1]\n",
    "    x_hist=np.hstack((x_hist,x))\n",
    "    f_hist4=np.vstack((f_hist4,f))\n",
    "    \n",
    "print(np.linalg.norm(x),f)"
   ]
  },
  {
   "cell_type": "code",
   "execution_count": 323,
   "metadata": {},
   "outputs": [
    {
     "data": {
      "image/png": "[encoded data removed]",
      "text/plain": [
       "<Figure size 432x288 with 1 Axes>"
      ]
     },
     "metadata": {},
     "output_type": "display_data"
    }
   ],
   "source": [
    "plt.loglog(f_hist1)\n",
    "plt.loglog(f_hist2)\n",
    "plt.loglog(f_hist3)\n",
    "plt.loglog(f_hist4)\n",
    "plt.show()"
   ]
  },
  {
   "cell_type": "code",
   "execution_count": null,
   "metadata": {},
   "outputs": [],
   "source": []
  }
 ],
 "metadata": {
  "kernelspec": {
   "display_name": "Python 3",
   "language": "python",
   "name": "python3"
  },
  "language_info": {
   "codemirror_mode": {
    "name": "ipython",
    "version": 3
   },
   "file_extension": ".py",
   "mimetype": "text/x-python",
   "name": "python",
   "nbconvert_exporter": "python",
   "pygments_lexer": "ipython3",
   "version": "3.6.5"
  }
 },
 "nbformat": 4,
 "nbformat_minor": 2
}
